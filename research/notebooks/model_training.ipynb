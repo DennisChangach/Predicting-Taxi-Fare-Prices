{
 "cells": [
  {
   "cell_type": "markdown",
   "metadata": {},
   "source": [
    "# Model Training"
   ]
  },
  {
   "cell_type": "markdown",
   "metadata": {},
   "source": [
    "## 1.1 Import Data and Required Packages"
   ]
  },
  {
   "cell_type": "code",
   "execution_count": 1,
   "metadata": {},
   "outputs": [],
   "source": [
    "# Basic Import\n",
    "import numpy as np\n",
    "import pandas as pd\n",
    "import matplotlib.pyplot as plt \n",
    "import seaborn as sns\n",
    "# Modelling\n",
    "from sklearn.metrics import mean_squared_error, r2_score\n",
    "from sklearn.neighbors import KNeighborsRegressor\n",
    "from sklearn.tree import DecisionTreeRegressor\n",
    "from sklearn.ensemble import RandomForestRegressor,AdaBoostRegressor\n",
    "from sklearn.svm import SVR\n",
    "from sklearn.linear_model import LinearRegression, Ridge,Lasso\n",
    "from sklearn.metrics import r2_score, mean_absolute_error, mean_squared_error\n",
    "from sklearn.model_selection import RandomizedSearchCV\n",
    "from catboost import CatBoostRegressor\n",
    "from xgboost import XGBRegressor\n",
    "import warnings"
   ]
  },
  {
   "cell_type": "markdown",
   "metadata": {},
   "source": [
    "### Import the sampled CSV file"
   ]
  },
  {
   "cell_type": "code",
   "execution_count": 6,
   "metadata": {},
   "outputs": [],
   "source": [
    "dataset = pd.read_csv(\"..\\..\\data\\Yellow_Taxi_Trip_Sample.csv\")"
   ]
  },
  {
   "cell_type": "code",
   "execution_count": 7,
   "metadata": {},
   "outputs": [
    {
     "data": {
      "text/html": [
       "<div>\n",
       "<style scoped>\n",
       "    .dataframe tbody tr th:only-of-type {\n",
       "        vertical-align: middle;\n",
       "    }\n",
       "\n",
       "    .dataframe tbody tr th {\n",
       "        vertical-align: top;\n",
       "    }\n",
       "\n",
       "    .dataframe thead th {\n",
       "        text-align: right;\n",
       "    }\n",
       "</style>\n",
       "<table border=\"1\" class=\"dataframe\">\n",
       "  <thead>\n",
       "    <tr style=\"text-align: right;\">\n",
       "      <th></th>\n",
       "      <th>VendorID</th>\n",
       "      <th>tpep_pickup_datetime</th>\n",
       "      <th>tpep_dropoff_datetime</th>\n",
       "      <th>passenger_count</th>\n",
       "      <th>trip_distance</th>\n",
       "      <th>RatecodeID</th>\n",
       "      <th>store_and_fwd_flag</th>\n",
       "      <th>PULocationID</th>\n",
       "      <th>DOLocationID</th>\n",
       "      <th>payment_type</th>\n",
       "      <th>fare_amount</th>\n",
       "      <th>extra</th>\n",
       "      <th>mta_tax</th>\n",
       "      <th>tip_amount</th>\n",
       "      <th>tolls_amount</th>\n",
       "      <th>improvement_surcharge</th>\n",
       "      <th>total_amount</th>\n",
       "    </tr>\n",
       "  </thead>\n",
       "  <tbody>\n",
       "    <tr>\n",
       "      <th>0</th>\n",
       "      <td>2</td>\n",
       "      <td>07/27/2017 06:04:13 PM</td>\n",
       "      <td>07/27/2017 06:42:53 PM</td>\n",
       "      <td>1</td>\n",
       "      <td>10.80</td>\n",
       "      <td>1</td>\n",
       "      <td>N</td>\n",
       "      <td>143</td>\n",
       "      <td>138</td>\n",
       "      <td>1</td>\n",
       "      <td>36.0</td>\n",
       "      <td>1.0</td>\n",
       "      <td>0.5</td>\n",
       "      <td>5.00</td>\n",
       "      <td>5.76</td>\n",
       "      <td>0.3</td>\n",
       "      <td>48.56</td>\n",
       "    </tr>\n",
       "    <tr>\n",
       "      <th>1</th>\n",
       "      <td>2</td>\n",
       "      <td>07/27/2017 06:30:35 PM</td>\n",
       "      <td>07/27/2017 06:52:03 PM</td>\n",
       "      <td>6</td>\n",
       "      <td>6.53</td>\n",
       "      <td>1</td>\n",
       "      <td>N</td>\n",
       "      <td>231</td>\n",
       "      <td>162</td>\n",
       "      <td>1</td>\n",
       "      <td>21.0</td>\n",
       "      <td>1.0</td>\n",
       "      <td>0.5</td>\n",
       "      <td>3.42</td>\n",
       "      <td>0.00</td>\n",
       "      <td>0.3</td>\n",
       "      <td>26.22</td>\n",
       "    </tr>\n",
       "    <tr>\n",
       "      <th>2</th>\n",
       "      <td>2</td>\n",
       "      <td>07/27/2017 06:01:39 PM</td>\n",
       "      <td>07/27/2017 06:24:32 PM</td>\n",
       "      <td>1</td>\n",
       "      <td>3.11</td>\n",
       "      <td>1</td>\n",
       "      <td>N</td>\n",
       "      <td>100</td>\n",
       "      <td>238</td>\n",
       "      <td>2</td>\n",
       "      <td>16.0</td>\n",
       "      <td>1.0</td>\n",
       "      <td>0.5</td>\n",
       "      <td>0.00</td>\n",
       "      <td>0.00</td>\n",
       "      <td>0.3</td>\n",
       "      <td>17.80</td>\n",
       "    </tr>\n",
       "    <tr>\n",
       "      <th>3</th>\n",
       "      <td>2</td>\n",
       "      <td>07/27/2017 06:31:48 PM</td>\n",
       "      <td>07/27/2017 06:43:38 PM</td>\n",
       "      <td>1</td>\n",
       "      <td>0.71</td>\n",
       "      <td>1</td>\n",
       "      <td>N</td>\n",
       "      <td>233</td>\n",
       "      <td>230</td>\n",
       "      <td>1</td>\n",
       "      <td>8.5</td>\n",
       "      <td>1.0</td>\n",
       "      <td>0.5</td>\n",
       "      <td>2.06</td>\n",
       "      <td>0.00</td>\n",
       "      <td>0.3</td>\n",
       "      <td>12.36</td>\n",
       "    </tr>\n",
       "    <tr>\n",
       "      <th>4</th>\n",
       "      <td>2</td>\n",
       "      <td>07/27/2017 06:10:56 PM</td>\n",
       "      <td>07/27/2017 06:19:01 PM</td>\n",
       "      <td>1</td>\n",
       "      <td>1.35</td>\n",
       "      <td>1</td>\n",
       "      <td>N</td>\n",
       "      <td>186</td>\n",
       "      <td>249</td>\n",
       "      <td>1</td>\n",
       "      <td>7.5</td>\n",
       "      <td>1.0</td>\n",
       "      <td>0.5</td>\n",
       "      <td>2.79</td>\n",
       "      <td>0.00</td>\n",
       "      <td>0.3</td>\n",
       "      <td>12.09</td>\n",
       "    </tr>\n",
       "  </tbody>\n",
       "</table>\n",
       "</div>"
      ],
      "text/plain": [
       "   VendorID    tpep_pickup_datetime   tpep_dropoff_datetime  passenger_count  \\\n",
       "0         2  07/27/2017 06:04:13 PM  07/27/2017 06:42:53 PM                1   \n",
       "1         2  07/27/2017 06:30:35 PM  07/27/2017 06:52:03 PM                6   \n",
       "2         2  07/27/2017 06:01:39 PM  07/27/2017 06:24:32 PM                1   \n",
       "3         2  07/27/2017 06:31:48 PM  07/27/2017 06:43:38 PM                1   \n",
       "4         2  07/27/2017 06:10:56 PM  07/27/2017 06:19:01 PM                1   \n",
       "\n",
       "   trip_distance  RatecodeID store_and_fwd_flag  PULocationID  DOLocationID  \\\n",
       "0          10.80           1                  N           143           138   \n",
       "1           6.53           1                  N           231           162   \n",
       "2           3.11           1                  N           100           238   \n",
       "3           0.71           1                  N           233           230   \n",
       "4           1.35           1                  N           186           249   \n",
       "\n",
       "   payment_type  fare_amount  extra  mta_tax  tip_amount  tolls_amount  \\\n",
       "0             1         36.0    1.0      0.5        5.00          5.76   \n",
       "1             1         21.0    1.0      0.5        3.42          0.00   \n",
       "2             2         16.0    1.0      0.5        0.00          0.00   \n",
       "3             1          8.5    1.0      0.5        2.06          0.00   \n",
       "4             1          7.5    1.0      0.5        2.79          0.00   \n",
       "\n",
       "   improvement_surcharge  total_amount  \n",
       "0                    0.3         48.56  \n",
       "1                    0.3         26.22  \n",
       "2                    0.3         17.80  \n",
       "3                    0.3         12.36  \n",
       "4                    0.3         12.09  "
      ]
     },
     "execution_count": 7,
     "metadata": {},
     "output_type": "execute_result"
    }
   ],
   "source": [
    "dataset.head()"
   ]
  },
  {
   "cell_type": "code",
   "execution_count": 8,
   "metadata": {},
   "outputs": [
    {
     "name": "stdout",
     "output_type": "stream",
     "text": [
      "<class 'pandas.core.frame.DataFrame'>\n",
      "RangeIndex: 113118 entries, 0 to 113117\n",
      "Data columns (total 17 columns):\n",
      " #   Column                 Non-Null Count   Dtype  \n",
      "---  ------                 --------------   -----  \n",
      " 0   VendorID               113118 non-null  int64  \n",
      " 1   tpep_pickup_datetime   113118 non-null  object \n",
      " 2   tpep_dropoff_datetime  113118 non-null  object \n",
      " 3   passenger_count        113118 non-null  int64  \n",
      " 4   trip_distance          113118 non-null  float64\n",
      " 5   RatecodeID             113118 non-null  int64  \n",
      " 6   store_and_fwd_flag     113118 non-null  object \n",
      " 7   PULocationID           113118 non-null  int64  \n",
      " 8   DOLocationID           113118 non-null  int64  \n",
      " 9   payment_type           113118 non-null  int64  \n",
      " 10  fare_amount            113118 non-null  float64\n",
      " 11  extra                  113118 non-null  float64\n",
      " 12  mta_tax                113118 non-null  float64\n",
      " 13  tip_amount             113118 non-null  float64\n",
      " 14  tolls_amount           113118 non-null  float64\n",
      " 15  improvement_surcharge  113118 non-null  float64\n",
      " 16  total_amount           113118 non-null  float64\n",
      "dtypes: float64(8), int64(6), object(3)\n",
      "memory usage: 14.7+ MB\n"
     ]
    }
   ],
   "source": [
    "dataset.info()"
   ]
  },
  {
   "cell_type": "markdown",
   "metadata": {},
   "source": [
    "## Data Preparation\n",
    "\n",
    "- This entails preparing the data before data transformation\n",
    "\n",
    "This includes:\n",
    "- Loading the Raw Data - sampled data\n",
    "- Feature Creation: [Trip Duration, Hour, Day of Week No, Month, Year]\n",
    "- Dropping the rows that are not needed for modelling\n",
    "- Drop Features: ['extra',\n",
    "       'mta_tax', 'tip_amount', 'tolls_amount', 'improvement_surcharge',\n",
    "       'total_amount','tpep_pickup_datetime', 'tpep_dropoff_datetime']"
   ]
  },
  {
   "cell_type": "code",
   "execution_count": 9,
   "metadata": {},
   "outputs": [
    {
     "data": {
      "text/plain": [
       "(113118, 17)"
      ]
     },
     "execution_count": 9,
     "metadata": {},
     "output_type": "execute_result"
    }
   ],
   "source": [
    "dataset.shape"
   ]
  },
  {
   "cell_type": "markdown",
   "metadata": {},
   "source": [
    "**Feature Creation**"
   ]
  },
  {
   "cell_type": "code",
   "execution_count": 10,
   "metadata": {},
   "outputs": [
    {
     "name": "stderr",
     "output_type": "stream",
     "text": [
      "C:\\Users\\ADMIN\\AppData\\Local\\Temp\\ipykernel_20600\\283500179.py:2: UserWarning: Could not infer format, so each element will be parsed individually, falling back to `dateutil`. To ensure parsing is consistent and as-expected, please specify a format.\n",
      "  dataset[\"tpep_pickup_datetime\"] = pd.to_datetime(dataset[\"tpep_pickup_datetime\"])\n",
      "C:\\Users\\ADMIN\\AppData\\Local\\Temp\\ipykernel_20600\\283500179.py:3: UserWarning: Could not infer format, so each element will be parsed individually, falling back to `dateutil`. To ensure parsing is consistent and as-expected, please specify a format.\n",
      "  dataset[\"tpep_dropoff_datetime\"] = pd.to_datetime(dataset[\"tpep_dropoff_datetime\"])\n"
     ]
    }
   ],
   "source": [
    "#Converting to datetime\n",
    "dataset[\"tpep_pickup_datetime\"] = pd.to_datetime(dataset[\"tpep_pickup_datetime\"])\n",
    "dataset[\"tpep_dropoff_datetime\"] = pd.to_datetime(dataset[\"tpep_dropoff_datetime\"])"
   ]
  },
  {
   "cell_type": "code",
   "execution_count": 11,
   "metadata": {},
   "outputs": [],
   "source": [
    "#calculating trip duration(in minutes) using pickup & dropoff times\n",
    "dataset['trip_duration'] = (dataset[\"tpep_dropoff_datetime\"] - dataset[\"tpep_pickup_datetime\"]).dt.total_seconds() / 60"
   ]
  },
  {
   "cell_type": "code",
   "execution_count": 12,
   "metadata": {},
   "outputs": [],
   "source": [
    "#Creating the time variables\n",
    "dataset['pickup_day_no']=dataset['tpep_pickup_datetime'].dt.weekday\n",
    "dataset['dropoff_day_no']=dataset['tpep_dropoff_datetime'].dt.weekday\n",
    "dataset['pickup_hour']=dataset['tpep_pickup_datetime'].dt.hour\n",
    "dataset['dropoff_hour']=dataset['tpep_dropoff_datetime'].dt.hour\n",
    "dataset['pickup_month']=dataset['tpep_pickup_datetime'].dt.month\n",
    "dataset['dropoff_month']=dataset['tpep_dropoff_datetime'].dt.month\n",
    "dataset['pickup_year']=dataset['tpep_pickup_datetime'].dt.year\n",
    "dataset['dropoff_year']=dataset['tpep_dropoff_datetime'].dt.year"
   ]
  },
  {
   "cell_type": "markdown",
   "metadata": {},
   "source": [
    "**Filtering the dataset**"
   ]
  },
  {
   "cell_type": "code",
   "execution_count": 17,
   "metadata": {},
   "outputs": [],
   "source": [
    "#removing records where trip duration, trip distance and total fare amount are recorded as 0\n",
    "dataset_1 = dataset[(dataset['trip_duration'] !=0) & (dataset['trip_distance']!=0) & (dataset['fare_amount']>0)].reset_index(drop=True)"
   ]
  },
  {
   "cell_type": "code",
   "execution_count": 18,
   "metadata": {},
   "outputs": [],
   "source": [
    "#Dropping the columns that will NOT be used in the analysis & building the model\n",
    "#dropping the cplumns\n",
    "dataset_1.drop(['extra',\n",
    "       'mta_tax', 'tip_amount', 'tolls_amount', 'improvement_surcharge',\n",
    "       'total_amount','tpep_pickup_datetime','tpep_dropoff_datetime'],axis=1,inplace=True)"
   ]
  },
  {
   "cell_type": "code",
   "execution_count": 19,
   "metadata": {},
   "outputs": [
    {
     "data": {
      "text/plain": [
       "Index(['VendorID', 'passenger_count', 'trip_distance', 'RatecodeID',\n",
       "       'store_and_fwd_flag', 'PULocationID', 'DOLocationID', 'payment_type',\n",
       "       'fare_amount', 'trip_duration', 'pickup_day_no', 'dropoff_day_no',\n",
       "       'pickup_hour', 'dropoff_hour', 'pickup_month', 'dropoff_month',\n",
       "       'pickup_year', 'dropoff_year'],\n",
       "      dtype='object')"
      ]
     },
     "execution_count": 19,
     "metadata": {},
     "output_type": "execute_result"
    }
   ],
   "source": [
    "dataset_1.columns"
   ]
  },
  {
   "cell_type": "code",
   "execution_count": 20,
   "metadata": {},
   "outputs": [
    {
     "data": {
      "text/html": [
       "<div>\n",
       "<style scoped>\n",
       "    .dataframe tbody tr th:only-of-type {\n",
       "        vertical-align: middle;\n",
       "    }\n",
       "\n",
       "    .dataframe tbody tr th {\n",
       "        vertical-align: top;\n",
       "    }\n",
       "\n",
       "    .dataframe thead th {\n",
       "        text-align: right;\n",
       "    }\n",
       "</style>\n",
       "<table border=\"1\" class=\"dataframe\">\n",
       "  <thead>\n",
       "    <tr style=\"text-align: right;\">\n",
       "      <th></th>\n",
       "      <th>VendorID</th>\n",
       "      <th>passenger_count</th>\n",
       "      <th>trip_distance</th>\n",
       "      <th>RatecodeID</th>\n",
       "      <th>store_and_fwd_flag</th>\n",
       "      <th>PULocationID</th>\n",
       "      <th>DOLocationID</th>\n",
       "      <th>payment_type</th>\n",
       "      <th>fare_amount</th>\n",
       "      <th>trip_duration</th>\n",
       "      <th>pickup_day_no</th>\n",
       "      <th>dropoff_day_no</th>\n",
       "      <th>pickup_hour</th>\n",
       "      <th>dropoff_hour</th>\n",
       "      <th>pickup_month</th>\n",
       "      <th>dropoff_month</th>\n",
       "      <th>pickup_year</th>\n",
       "      <th>dropoff_year</th>\n",
       "    </tr>\n",
       "  </thead>\n",
       "  <tbody>\n",
       "    <tr>\n",
       "      <th>0</th>\n",
       "      <td>2</td>\n",
       "      <td>1</td>\n",
       "      <td>10.80</td>\n",
       "      <td>1</td>\n",
       "      <td>N</td>\n",
       "      <td>143</td>\n",
       "      <td>138</td>\n",
       "      <td>1</td>\n",
       "      <td>36.0</td>\n",
       "      <td>38.666667</td>\n",
       "      <td>3</td>\n",
       "      <td>3</td>\n",
       "      <td>18</td>\n",
       "      <td>18</td>\n",
       "      <td>7</td>\n",
       "      <td>7</td>\n",
       "      <td>2017</td>\n",
       "      <td>2017</td>\n",
       "    </tr>\n",
       "    <tr>\n",
       "      <th>1</th>\n",
       "      <td>2</td>\n",
       "      <td>6</td>\n",
       "      <td>6.53</td>\n",
       "      <td>1</td>\n",
       "      <td>N</td>\n",
       "      <td>231</td>\n",
       "      <td>162</td>\n",
       "      <td>1</td>\n",
       "      <td>21.0</td>\n",
       "      <td>21.466667</td>\n",
       "      <td>3</td>\n",
       "      <td>3</td>\n",
       "      <td>18</td>\n",
       "      <td>18</td>\n",
       "      <td>7</td>\n",
       "      <td>7</td>\n",
       "      <td>2017</td>\n",
       "      <td>2017</td>\n",
       "    </tr>\n",
       "    <tr>\n",
       "      <th>2</th>\n",
       "      <td>2</td>\n",
       "      <td>1</td>\n",
       "      <td>3.11</td>\n",
       "      <td>1</td>\n",
       "      <td>N</td>\n",
       "      <td>100</td>\n",
       "      <td>238</td>\n",
       "      <td>2</td>\n",
       "      <td>16.0</td>\n",
       "      <td>22.883333</td>\n",
       "      <td>3</td>\n",
       "      <td>3</td>\n",
       "      <td>18</td>\n",
       "      <td>18</td>\n",
       "      <td>7</td>\n",
       "      <td>7</td>\n",
       "      <td>2017</td>\n",
       "      <td>2017</td>\n",
       "    </tr>\n",
       "    <tr>\n",
       "      <th>3</th>\n",
       "      <td>2</td>\n",
       "      <td>1</td>\n",
       "      <td>0.71</td>\n",
       "      <td>1</td>\n",
       "      <td>N</td>\n",
       "      <td>233</td>\n",
       "      <td>230</td>\n",
       "      <td>1</td>\n",
       "      <td>8.5</td>\n",
       "      <td>11.833333</td>\n",
       "      <td>3</td>\n",
       "      <td>3</td>\n",
       "      <td>18</td>\n",
       "      <td>18</td>\n",
       "      <td>7</td>\n",
       "      <td>7</td>\n",
       "      <td>2017</td>\n",
       "      <td>2017</td>\n",
       "    </tr>\n",
       "    <tr>\n",
       "      <th>4</th>\n",
       "      <td>2</td>\n",
       "      <td>1</td>\n",
       "      <td>1.35</td>\n",
       "      <td>1</td>\n",
       "      <td>N</td>\n",
       "      <td>186</td>\n",
       "      <td>249</td>\n",
       "      <td>1</td>\n",
       "      <td>7.5</td>\n",
       "      <td>8.083333</td>\n",
       "      <td>3</td>\n",
       "      <td>3</td>\n",
       "      <td>18</td>\n",
       "      <td>18</td>\n",
       "      <td>7</td>\n",
       "      <td>7</td>\n",
       "      <td>2017</td>\n",
       "      <td>2017</td>\n",
       "    </tr>\n",
       "  </tbody>\n",
       "</table>\n",
       "</div>"
      ],
      "text/plain": [
       "   VendorID  passenger_count  trip_distance  RatecodeID store_and_fwd_flag  \\\n",
       "0         2                1          10.80           1                  N   \n",
       "1         2                6           6.53           1                  N   \n",
       "2         2                1           3.11           1                  N   \n",
       "3         2                1           0.71           1                  N   \n",
       "4         2                1           1.35           1                  N   \n",
       "\n",
       "   PULocationID  DOLocationID  payment_type  fare_amount  trip_duration  \\\n",
       "0           143           138             1         36.0      38.666667   \n",
       "1           231           162             1         21.0      21.466667   \n",
       "2           100           238             2         16.0      22.883333   \n",
       "3           233           230             1          8.5      11.833333   \n",
       "4           186           249             1          7.5       8.083333   \n",
       "\n",
       "   pickup_day_no  dropoff_day_no  pickup_hour  dropoff_hour  pickup_month  \\\n",
       "0              3               3           18            18             7   \n",
       "1              3               3           18            18             7   \n",
       "2              3               3           18            18             7   \n",
       "3              3               3           18            18             7   \n",
       "4              3               3           18            18             7   \n",
       "\n",
       "   dropoff_month  pickup_year  dropoff_year  \n",
       "0              7         2017          2017  \n",
       "1              7         2017          2017  \n",
       "2              7         2017          2017  \n",
       "3              7         2017          2017  \n",
       "4              7         2017          2017  "
      ]
     },
     "execution_count": 20,
     "metadata": {},
     "output_type": "execute_result"
    }
   ],
   "source": [
    "dataset_1.head()"
   ]
  },
  {
   "cell_type": "markdown",
   "metadata": {},
   "source": [
    "### Preparing X and Y variables"
   ]
  },
  {
   "cell_type": "code",
   "execution_count": 21,
   "metadata": {},
   "outputs": [],
   "source": [
    "df = dataset_1.copy()"
   ]
  },
  {
   "cell_type": "code",
   "execution_count": 22,
   "metadata": {},
   "outputs": [],
   "source": [
    "X = df.drop(columns=['fare_amount'],axis=1)"
   ]
  },
  {
   "cell_type": "code",
   "execution_count": 23,
   "metadata": {},
   "outputs": [
    {
     "data": {
      "text/html": [
       "<div>\n",
       "<style scoped>\n",
       "    .dataframe tbody tr th:only-of-type {\n",
       "        vertical-align: middle;\n",
       "    }\n",
       "\n",
       "    .dataframe tbody tr th {\n",
       "        vertical-align: top;\n",
       "    }\n",
       "\n",
       "    .dataframe thead th {\n",
       "        text-align: right;\n",
       "    }\n",
       "</style>\n",
       "<table border=\"1\" class=\"dataframe\">\n",
       "  <thead>\n",
       "    <tr style=\"text-align: right;\">\n",
       "      <th></th>\n",
       "      <th>VendorID</th>\n",
       "      <th>passenger_count</th>\n",
       "      <th>trip_distance</th>\n",
       "      <th>RatecodeID</th>\n",
       "      <th>store_and_fwd_flag</th>\n",
       "      <th>PULocationID</th>\n",
       "      <th>DOLocationID</th>\n",
       "      <th>payment_type</th>\n",
       "      <th>trip_duration</th>\n",
       "      <th>pickup_day_no</th>\n",
       "      <th>dropoff_day_no</th>\n",
       "      <th>pickup_hour</th>\n",
       "      <th>dropoff_hour</th>\n",
       "      <th>pickup_month</th>\n",
       "      <th>dropoff_month</th>\n",
       "      <th>pickup_year</th>\n",
       "      <th>dropoff_year</th>\n",
       "    </tr>\n",
       "  </thead>\n",
       "  <tbody>\n",
       "    <tr>\n",
       "      <th>0</th>\n",
       "      <td>2</td>\n",
       "      <td>1</td>\n",
       "      <td>10.80</td>\n",
       "      <td>1</td>\n",
       "      <td>N</td>\n",
       "      <td>143</td>\n",
       "      <td>138</td>\n",
       "      <td>1</td>\n",
       "      <td>38.666667</td>\n",
       "      <td>3</td>\n",
       "      <td>3</td>\n",
       "      <td>18</td>\n",
       "      <td>18</td>\n",
       "      <td>7</td>\n",
       "      <td>7</td>\n",
       "      <td>2017</td>\n",
       "      <td>2017</td>\n",
       "    </tr>\n",
       "    <tr>\n",
       "      <th>1</th>\n",
       "      <td>2</td>\n",
       "      <td>6</td>\n",
       "      <td>6.53</td>\n",
       "      <td>1</td>\n",
       "      <td>N</td>\n",
       "      <td>231</td>\n",
       "      <td>162</td>\n",
       "      <td>1</td>\n",
       "      <td>21.466667</td>\n",
       "      <td>3</td>\n",
       "      <td>3</td>\n",
       "      <td>18</td>\n",
       "      <td>18</td>\n",
       "      <td>7</td>\n",
       "      <td>7</td>\n",
       "      <td>2017</td>\n",
       "      <td>2017</td>\n",
       "    </tr>\n",
       "    <tr>\n",
       "      <th>2</th>\n",
       "      <td>2</td>\n",
       "      <td>1</td>\n",
       "      <td>3.11</td>\n",
       "      <td>1</td>\n",
       "      <td>N</td>\n",
       "      <td>100</td>\n",
       "      <td>238</td>\n",
       "      <td>2</td>\n",
       "      <td>22.883333</td>\n",
       "      <td>3</td>\n",
       "      <td>3</td>\n",
       "      <td>18</td>\n",
       "      <td>18</td>\n",
       "      <td>7</td>\n",
       "      <td>7</td>\n",
       "      <td>2017</td>\n",
       "      <td>2017</td>\n",
       "    </tr>\n",
       "    <tr>\n",
       "      <th>3</th>\n",
       "      <td>2</td>\n",
       "      <td>1</td>\n",
       "      <td>0.71</td>\n",
       "      <td>1</td>\n",
       "      <td>N</td>\n",
       "      <td>233</td>\n",
       "      <td>230</td>\n",
       "      <td>1</td>\n",
       "      <td>11.833333</td>\n",
       "      <td>3</td>\n",
       "      <td>3</td>\n",
       "      <td>18</td>\n",
       "      <td>18</td>\n",
       "      <td>7</td>\n",
       "      <td>7</td>\n",
       "      <td>2017</td>\n",
       "      <td>2017</td>\n",
       "    </tr>\n",
       "    <tr>\n",
       "      <th>4</th>\n",
       "      <td>2</td>\n",
       "      <td>1</td>\n",
       "      <td>1.35</td>\n",
       "      <td>1</td>\n",
       "      <td>N</td>\n",
       "      <td>186</td>\n",
       "      <td>249</td>\n",
       "      <td>1</td>\n",
       "      <td>8.083333</td>\n",
       "      <td>3</td>\n",
       "      <td>3</td>\n",
       "      <td>18</td>\n",
       "      <td>18</td>\n",
       "      <td>7</td>\n",
       "      <td>7</td>\n",
       "      <td>2017</td>\n",
       "      <td>2017</td>\n",
       "    </tr>\n",
       "  </tbody>\n",
       "</table>\n",
       "</div>"
      ],
      "text/plain": [
       "   VendorID  passenger_count  trip_distance  RatecodeID store_and_fwd_flag  \\\n",
       "0         2                1          10.80           1                  N   \n",
       "1         2                6           6.53           1                  N   \n",
       "2         2                1           3.11           1                  N   \n",
       "3         2                1           0.71           1                  N   \n",
       "4         2                1           1.35           1                  N   \n",
       "\n",
       "   PULocationID  DOLocationID  payment_type  trip_duration  pickup_day_no  \\\n",
       "0           143           138             1      38.666667              3   \n",
       "1           231           162             1      21.466667              3   \n",
       "2           100           238             2      22.883333              3   \n",
       "3           233           230             1      11.833333              3   \n",
       "4           186           249             1       8.083333              3   \n",
       "\n",
       "   dropoff_day_no  pickup_hour  dropoff_hour  pickup_month  dropoff_month  \\\n",
       "0               3           18            18             7              7   \n",
       "1               3           18            18             7              7   \n",
       "2               3           18            18             7              7   \n",
       "3               3           18            18             7              7   \n",
       "4               3           18            18             7              7   \n",
       "\n",
       "   pickup_year  dropoff_year  \n",
       "0         2017          2017  \n",
       "1         2017          2017  \n",
       "2         2017          2017  \n",
       "3         2017          2017  \n",
       "4         2017          2017  "
      ]
     },
     "execution_count": 23,
     "metadata": {},
     "output_type": "execute_result"
    }
   ],
   "source": [
    "X.head()"
   ]
  },
  {
   "cell_type": "code",
   "execution_count": 26,
   "metadata": {},
   "outputs": [
    {
     "name": "stdout",
     "output_type": "stream",
     "text": [
      "<class 'pandas.core.frame.DataFrame'>\n",
      "RangeIndex: 112250 entries, 0 to 112249\n",
      "Data columns (total 17 columns):\n",
      " #   Column              Non-Null Count   Dtype  \n",
      "---  ------              --------------   -----  \n",
      " 0   VendorID            112250 non-null  int64  \n",
      " 1   passenger_count     112250 non-null  int64  \n",
      " 2   trip_distance       112250 non-null  float64\n",
      " 3   RatecodeID          112250 non-null  int64  \n",
      " 4   store_and_fwd_flag  112250 non-null  object \n",
      " 5   PULocationID        112250 non-null  int64  \n",
      " 6   DOLocationID        112250 non-null  int64  \n",
      " 7   payment_type        112250 non-null  int64  \n",
      " 8   trip_duration       112250 non-null  float64\n",
      " 9   pickup_day_no       112250 non-null  int32  \n",
      " 10  dropoff_day_no      112250 non-null  int32  \n",
      " 11  pickup_hour         112250 non-null  int32  \n",
      " 12  dropoff_hour        112250 non-null  int32  \n",
      " 13  pickup_month        112250 non-null  int32  \n",
      " 14  dropoff_month       112250 non-null  int32  \n",
      " 15  pickup_year         112250 non-null  int32  \n",
      " 16  dropoff_year        112250 non-null  int32  \n",
      "dtypes: float64(2), int32(8), int64(6), object(1)\n",
      "memory usage: 11.1+ MB\n"
     ]
    }
   ],
   "source": [
    "X.info()"
   ]
  },
  {
   "cell_type": "code",
   "execution_count": 24,
   "metadata": {},
   "outputs": [],
   "source": [
    "y = df['fare_amount']"
   ]
  },
  {
   "cell_type": "code",
   "execution_count": 25,
   "metadata": {},
   "outputs": [
    {
     "data": {
      "text/plain": [
       "0         36.0\n",
       "1         21.0\n",
       "2         16.0\n",
       "3          8.5\n",
       "4          7.5\n",
       "          ... \n",
       "112245     9.0\n",
       "112246     5.5\n",
       "112247    26.0\n",
       "112248     8.0\n",
       "112249    18.5\n",
       "Name: fare_amount, Length: 112250, dtype: float64"
      ]
     },
     "execution_count": 25,
     "metadata": {},
     "output_type": "execute_result"
    }
   ],
   "source": [
    "y"
   ]
  },
  {
   "cell_type": "code",
   "execution_count": 27,
   "metadata": {},
   "outputs": [],
   "source": [
    "# Create Column Transformer with 3 types of transformers\n",
    "num_features = X.select_dtypes(exclude=\"object\").columns\n",
    "cat_features = X.select_dtypes(include=\"object\").columns\n",
    "\n",
    "from sklearn.preprocessing import OneHotEncoder, StandardScaler\n",
    "from sklearn.compose import ColumnTransformer\n",
    "\n",
    "numeric_transformer = StandardScaler()\n",
    "oh_transformer = OneHotEncoder()\n",
    "\n",
    "preprocessor = ColumnTransformer(\n",
    "    [\n",
    "        (\"OneHotEncoder\", oh_transformer, cat_features),\n",
    "         (\"StandardScaler\", numeric_transformer, num_features),        \n",
    "    ]\n",
    ")"
   ]
  },
  {
   "cell_type": "code",
   "execution_count": 28,
   "metadata": {},
   "outputs": [],
   "source": [
    "X = preprocessor.fit_transform(X)"
   ]
  },
  {
   "cell_type": "code",
   "execution_count": 29,
   "metadata": {},
   "outputs": [
    {
     "data": {
      "text/plain": [
       "array([[ 1.        ,  0.        ,  0.90579638, ...,  0.16838564,\n",
       "         0.        , -0.00667424],\n",
       "       [ 1.        ,  0.        ,  0.90579638, ...,  0.16838564,\n",
       "         0.        , -0.00667424],\n",
       "       [ 1.        ,  0.        ,  0.90579638, ...,  0.16838564,\n",
       "         0.        , -0.00667424],\n",
       "       ...,\n",
       "       [ 1.        ,  0.        , -1.10400088, ...,  0.16838564,\n",
       "         0.        , -0.00667424],\n",
       "       [ 1.        ,  0.        ,  0.90579638, ...,  0.16838564,\n",
       "         0.        , -0.00667424],\n",
       "       [ 1.        ,  0.        , -1.10400088, ...,  0.16838564,\n",
       "         0.        , -0.00667424]])"
      ]
     },
     "execution_count": 29,
     "metadata": {},
     "output_type": "execute_result"
    }
   ],
   "source": [
    "X"
   ]
  },
  {
   "cell_type": "code",
   "execution_count": 30,
   "metadata": {},
   "outputs": [
    {
     "data": {
      "text/plain": [
       "(112250, 18)"
      ]
     },
     "execution_count": 30,
     "metadata": {},
     "output_type": "execute_result"
    }
   ],
   "source": [
    "X.shape"
   ]
  },
  {
   "cell_type": "code",
   "execution_count": 31,
   "metadata": {},
   "outputs": [
    {
     "data": {
      "text/plain": [
       "((89800, 18), (22450, 18))"
      ]
     },
     "execution_count": 31,
     "metadata": {},
     "output_type": "execute_result"
    }
   ],
   "source": [
    "# separate dataset into train and test\n",
    "from sklearn.model_selection import train_test_split\n",
    "X_train, X_test, y_train, y_test = train_test_split(X,y,test_size=0.2,random_state=42)\n",
    "X_train.shape, X_test.shape"
   ]
  },
  {
   "cell_type": "markdown",
   "metadata": {},
   "source": [
    "### Model Evaluation Function"
   ]
  },
  {
   "cell_type": "code",
   "execution_count": 32,
   "metadata": {},
   "outputs": [],
   "source": [
    "def evaluate_model(true, predicted):\n",
    "    mae = mean_absolute_error(true, predicted)\n",
    "    mse = mean_squared_error(true, predicted)\n",
    "    rmse = np.sqrt(mean_squared_error(true, predicted))\n",
    "    r2_square = r2_score(true, predicted)\n",
    "    return mae, rmse, r2_square"
   ]
  },
  {
   "cell_type": "code",
   "execution_count": 33,
   "metadata": {},
   "outputs": [
    {
     "name": "stdout",
     "output_type": "stream",
     "text": [
      "Linear Regression\n",
      "Model performance for Training set\n",
      "- Root Mean Squared Error: 3.4502\n",
      "- Mean Absolute Error: 1.9375\n",
      "- R2 Score: 0.9007\n",
      "----------------------------------\n",
      "Model performance for Test set\n",
      "- Root Mean Squared Error: 3.5788\n",
      "- Mean Absolute Error: 1.9823\n",
      "- R2 Score: 0.8977\n",
      "===================================\n",
      "\n",
      "\n",
      "Lasso\n",
      "Model performance for Training set\n",
      "- Root Mean Squared Error: 3.6570\n",
      "- Mean Absolute Error: 2.1293\n",
      "- R2 Score: 0.8885\n",
      "----------------------------------\n",
      "Model performance for Test set\n",
      "- Root Mean Squared Error: 3.8707\n",
      "- Mean Absolute Error: 2.1852\n",
      "- R2 Score: 0.8804\n",
      "===================================\n",
      "\n",
      "\n",
      "Ridge\n",
      "Model performance for Training set\n",
      "- Root Mean Squared Error: 3.4502\n",
      "- Mean Absolute Error: 1.9375\n",
      "- R2 Score: 0.9007\n",
      "----------------------------------\n",
      "Model performance for Test set\n",
      "- Root Mean Squared Error: 3.5788\n",
      "- Mean Absolute Error: 1.9823\n",
      "- R2 Score: 0.8977\n",
      "===================================\n",
      "\n",
      "\n",
      "K-Neighbors Regressor\n",
      "Model performance for Training set\n",
      "- Root Mean Squared Error: 2.7704\n",
      "- Mean Absolute Error: 1.8775\n",
      "- R2 Score: 0.9360\n",
      "----------------------------------\n",
      "Model performance for Test set\n",
      "- Root Mean Squared Error: 3.5131\n",
      "- Mean Absolute Error: 2.3657\n",
      "- R2 Score: 0.9014\n",
      "===================================\n",
      "\n",
      "\n",
      "Decision Tree\n",
      "Model performance for Training set\n",
      "- Root Mean Squared Error: 0.0000\n",
      "- Mean Absolute Error: 0.0000\n",
      "- R2 Score: 1.0000\n",
      "----------------------------------\n",
      "Model performance for Test set\n",
      "- Root Mean Squared Error: 1.8733\n",
      "- Mean Absolute Error: 0.4451\n",
      "- R2 Score: 0.9720\n",
      "===================================\n",
      "\n",
      "\n",
      "Random Forest Regressor\n",
      "Model performance for Training set\n",
      "- Root Mean Squared Error: 0.5362\n",
      "- Mean Absolute Error: 0.1256\n",
      "- R2 Score: 0.9976\n",
      "----------------------------------\n",
      "Model performance for Test set\n",
      "- Root Mean Squared Error: 1.4145\n",
      "- Mean Absolute Error: 0.3483\n",
      "- R2 Score: 0.9840\n",
      "===================================\n",
      "\n",
      "\n",
      "XGBRegressor\n",
      "Model performance for Training set\n",
      "- Root Mean Squared Error: 0.4554\n",
      "- Mean Absolute Error: 0.2849\n",
      "- R2 Score: 0.9983\n",
      "----------------------------------\n",
      "Model performance for Test set\n",
      "- Root Mean Squared Error: 1.4231\n",
      "- Mean Absolute Error: 0.3774\n",
      "- R2 Score: 0.9838\n",
      "===================================\n",
      "\n",
      "\n",
      "CatBoosting Regressor\n",
      "Model performance for Training set\n",
      "- Root Mean Squared Error: 0.4884\n",
      "- Mean Absolute Error: 0.2896\n",
      "- R2 Score: 0.9980\n",
      "----------------------------------\n",
      "Model performance for Test set\n",
      "- Root Mean Squared Error: 1.2973\n",
      "- Mean Absolute Error: 0.3521\n",
      "- R2 Score: 0.9866\n",
      "===================================\n",
      "\n",
      "\n",
      "AdaBoost Regressor\n",
      "Model performance for Training set\n",
      "- Root Mean Squared Error: 6.6204\n",
      "- Mean Absolute Error: 5.7780\n",
      "- R2 Score: 0.6345\n",
      "----------------------------------\n",
      "Model performance for Test set\n",
      "- Root Mean Squared Error: 6.6566\n",
      "- Mean Absolute Error: 5.7607\n",
      "- R2 Score: 0.6462\n",
      "===================================\n",
      "\n",
      "\n"
     ]
    }
   ],
   "source": [
    "models = {\n",
    "    \"Linear Regression\": LinearRegression(),\n",
    "    \"Lasso\": Lasso(),\n",
    "    \"Ridge\": Ridge(),\n",
    "    \"K-Neighbors Regressor\": KNeighborsRegressor(),\n",
    "    \"Decision Tree\": DecisionTreeRegressor(),\n",
    "    \"Random Forest Regressor\": RandomForestRegressor(),\n",
    "    \"XGBRegressor\": XGBRegressor(),\n",
    "    \"CatBoosting Regressor\": CatBoostRegressor(verbose=False),\n",
    "    \"AdaBoost Regressor\": AdaBoostRegressor()\n",
    "}\n",
    "model_list = []\n",
    "r2_list =[]\n",
    "\n",
    "for i in range(len(list(models))):\n",
    "    model = list(models.values())[i]\n",
    "    model.fit(X_train, y_train) # Train model\n",
    "\n",
    "    # Make predictions\n",
    "    y_train_pred = model.predict(X_train)\n",
    "    y_test_pred = model.predict(X_test)\n",
    "    \n",
    "    # Evaluate Train and Test dataset\n",
    "    model_train_mae , model_train_rmse, model_train_r2 = evaluate_model(y_train, y_train_pred)\n",
    "\n",
    "    model_test_mae , model_test_rmse, model_test_r2 = evaluate_model(y_test, y_test_pred)\n",
    "\n",
    "    \n",
    "    print(list(models.keys())[i])\n",
    "    model_list.append(list(models.keys())[i])\n",
    "    \n",
    "    print('Model performance for Training set')\n",
    "    print(\"- Root Mean Squared Error: {:.4f}\".format(model_train_rmse))\n",
    "    print(\"- Mean Absolute Error: {:.4f}\".format(model_train_mae))\n",
    "    print(\"- R2 Score: {:.4f}\".format(model_train_r2))\n",
    "\n",
    "    print('----------------------------------')\n",
    "    \n",
    "    print('Model performance for Test set')\n",
    "    print(\"- Root Mean Squared Error: {:.4f}\".format(model_test_rmse))\n",
    "    print(\"- Mean Absolute Error: {:.4f}\".format(model_test_mae))\n",
    "    print(\"- R2 Score: {:.4f}\".format(model_test_r2))\n",
    "    r2_list.append(model_test_r2)\n",
    "    \n",
    "    print('='*35)\n",
    "    print('\\n')"
   ]
  },
  {
   "cell_type": "markdown",
   "metadata": {},
   "source": [
    "### Results"
   ]
  },
  {
   "cell_type": "code",
   "execution_count": 34,
   "metadata": {},
   "outputs": [
    {
     "data": {
      "text/html": [
       "<div>\n",
       "<style scoped>\n",
       "    .dataframe tbody tr th:only-of-type {\n",
       "        vertical-align: middle;\n",
       "    }\n",
       "\n",
       "    .dataframe tbody tr th {\n",
       "        vertical-align: top;\n",
       "    }\n",
       "\n",
       "    .dataframe thead th {\n",
       "        text-align: right;\n",
       "    }\n",
       "</style>\n",
       "<table border=\"1\" class=\"dataframe\">\n",
       "  <thead>\n",
       "    <tr style=\"text-align: right;\">\n",
       "      <th></th>\n",
       "      <th>Model Name</th>\n",
       "      <th>R2_Score</th>\n",
       "    </tr>\n",
       "  </thead>\n",
       "  <tbody>\n",
       "    <tr>\n",
       "      <th>7</th>\n",
       "      <td>CatBoosting Regressor</td>\n",
       "      <td>0.986560</td>\n",
       "    </tr>\n",
       "    <tr>\n",
       "      <th>5</th>\n",
       "      <td>Random Forest Regressor</td>\n",
       "      <td>0.984022</td>\n",
       "    </tr>\n",
       "    <tr>\n",
       "      <th>6</th>\n",
       "      <td>XGBRegressor</td>\n",
       "      <td>0.983828</td>\n",
       "    </tr>\n",
       "    <tr>\n",
       "      <th>4</th>\n",
       "      <td>Decision Tree</td>\n",
       "      <td>0.971979</td>\n",
       "    </tr>\n",
       "    <tr>\n",
       "      <th>3</th>\n",
       "      <td>K-Neighbors Regressor</td>\n",
       "      <td>0.901445</td>\n",
       "    </tr>\n",
       "    <tr>\n",
       "      <th>2</th>\n",
       "      <td>Ridge</td>\n",
       "      <td>0.897726</td>\n",
       "    </tr>\n",
       "    <tr>\n",
       "      <th>0</th>\n",
       "      <td>Linear Regression</td>\n",
       "      <td>0.897725</td>\n",
       "    </tr>\n",
       "    <tr>\n",
       "      <th>1</th>\n",
       "      <td>Lasso</td>\n",
       "      <td>0.880357</td>\n",
       "    </tr>\n",
       "    <tr>\n",
       "      <th>8</th>\n",
       "      <td>AdaBoost Regressor</td>\n",
       "      <td>0.646165</td>\n",
       "    </tr>\n",
       "  </tbody>\n",
       "</table>\n",
       "</div>"
      ],
      "text/plain": [
       "                Model Name  R2_Score\n",
       "7    CatBoosting Regressor  0.986560\n",
       "5  Random Forest Regressor  0.984022\n",
       "6             XGBRegressor  0.983828\n",
       "4            Decision Tree  0.971979\n",
       "3    K-Neighbors Regressor  0.901445\n",
       "2                    Ridge  0.897726\n",
       "0        Linear Regression  0.897725\n",
       "1                    Lasso  0.880357\n",
       "8       AdaBoost Regressor  0.646165"
      ]
     },
     "execution_count": 34,
     "metadata": {},
     "output_type": "execute_result"
    }
   ],
   "source": [
    "#Creating a dataframe with the list of model names and r2 scores\n",
    "pd.DataFrame(list(zip(model_list, r2_list)), columns=['Model Name', 'R2_Score']).sort_values(by=[\"R2_Score\"],ascending=False)"
   ]
  },
  {
   "cell_type": "markdown",
   "metadata": {},
   "source": [
    "From above we can observe that the catboosting regressor model has the best r2 score"
   ]
  },
  {
   "cell_type": "markdown",
   "metadata": {},
   "source": [
    "### Catboosting Regressor"
   ]
  },
  {
   "cell_type": "code",
   "execution_count": 35,
   "metadata": {},
   "outputs": [
    {
     "name": "stdout",
     "output_type": "stream",
     "text": [
      " Accuracy of the model is 98.66\n"
     ]
    }
   ],
   "source": [
    "#Modelling using the Catboostregressor\n",
    "cat_model = CatBoostRegressor(verbose=False)\n",
    "cat_model.fit(X_train,y_train)\n",
    "y_pred = cat_model.predict(X_test)\n",
    "score = r2_score(y_test,y_pred)*100\n",
    "print(\" Accuracy of the model is %.2f\" %score)"
   ]
  },
  {
   "cell_type": "markdown",
   "metadata": {},
   "source": [
    "### Plot y_pred vs y_test"
   ]
  },
  {
   "cell_type": "code",
   "execution_count": 36,
   "metadata": {},
   "outputs": [
    {
     "data": {
      "text/plain": [
       "Text(0, 0.5, 'Predicted')"
      ]
     },
     "execution_count": 36,
     "metadata": {},
     "output_type": "execute_result"
    },
    {
     "data": {
      "image/png": "[encoded data removed]",
      "text/plain": [
       "<Figure size 640x480 with 1 Axes>"
      ]
     },
     "metadata": {},
     "output_type": "display_data"
    }
   ],
   "source": [
    "plt.scatter(y_test,y_pred)\n",
    "plt.xlabel('Actual')\n",
    "plt.ylabel('Predicted')"
   ]
  },
  {
   "cell_type": "code",
   "execution_count": 37,
   "metadata": {},
   "outputs": [
    {
     "data": {
      "image/png": "[encoded data removed]",
      "text/plain": [
       "<Figure size 640x480 with 1 Axes>"
      ]
     },
     "metadata": {},
     "output_type": "display_data"
    }
   ],
   "source": [
    "sns.regplot(x=y_test,y=y_pred,ci=None,color ='red');"
   ]
  },
  {
   "cell_type": "markdown",
   "metadata": {},
   "source": [
    "### Difference between Actual vs Predicted Values"
   ]
  },
  {
   "cell_type": "code",
   "execution_count": 38,
   "metadata": {},
   "outputs": [
    {
     "data": {
      "text/html": [
       "<div>\n",
       "<style scoped>\n",
       "    .dataframe tbody tr th:only-of-type {\n",
       "        vertical-align: middle;\n",
       "    }\n",
       "\n",
       "    .dataframe tbody tr th {\n",
       "        vertical-align: top;\n",
       "    }\n",
       "\n",
       "    .dataframe thead th {\n",
       "        text-align: right;\n",
       "    }\n",
       "</style>\n",
       "<table border=\"1\" class=\"dataframe\">\n",
       "  <thead>\n",
       "    <tr style=\"text-align: right;\">\n",
       "      <th></th>\n",
       "      <th>Actual Value</th>\n",
       "      <th>Predicted Value</th>\n",
       "      <th>Difference</th>\n",
       "    </tr>\n",
       "  </thead>\n",
       "  <tbody>\n",
       "    <tr>\n",
       "      <th>94868</th>\n",
       "      <td>19.0</td>\n",
       "      <td>18.880274</td>\n",
       "      <td>0.119726</td>\n",
       "    </tr>\n",
       "    <tr>\n",
       "      <th>101360</th>\n",
       "      <td>9.5</td>\n",
       "      <td>9.568123</td>\n",
       "      <td>-0.068123</td>\n",
       "    </tr>\n",
       "    <tr>\n",
       "      <th>63892</th>\n",
       "      <td>6.0</td>\n",
       "      <td>5.686279</td>\n",
       "      <td>0.313721</td>\n",
       "    </tr>\n",
       "    <tr>\n",
       "      <th>23882</th>\n",
       "      <td>14.5</td>\n",
       "      <td>14.587996</td>\n",
       "      <td>-0.087996</td>\n",
       "    </tr>\n",
       "    <tr>\n",
       "      <th>9481</th>\n",
       "      <td>25.5</td>\n",
       "      <td>25.252775</td>\n",
       "      <td>0.247225</td>\n",
       "    </tr>\n",
       "    <tr>\n",
       "      <th>...</th>\n",
       "      <td>...</td>\n",
       "      <td>...</td>\n",
       "      <td>...</td>\n",
       "    </tr>\n",
       "    <tr>\n",
       "      <th>73791</th>\n",
       "      <td>8.5</td>\n",
       "      <td>8.283846</td>\n",
       "      <td>0.216154</td>\n",
       "    </tr>\n",
       "    <tr>\n",
       "      <th>50628</th>\n",
       "      <td>13.0</td>\n",
       "      <td>12.528666</td>\n",
       "      <td>0.471334</td>\n",
       "    </tr>\n",
       "    <tr>\n",
       "      <th>78979</th>\n",
       "      <td>7.0</td>\n",
       "      <td>6.705533</td>\n",
       "      <td>0.294467</td>\n",
       "    </tr>\n",
       "    <tr>\n",
       "      <th>62350</th>\n",
       "      <td>37.0</td>\n",
       "      <td>37.968133</td>\n",
       "      <td>-0.968133</td>\n",
       "    </tr>\n",
       "    <tr>\n",
       "      <th>57591</th>\n",
       "      <td>9.0</td>\n",
       "      <td>8.808488</td>\n",
       "      <td>0.191512</td>\n",
       "    </tr>\n",
       "  </tbody>\n",
       "</table>\n",
       "<p>22450 rows × 3 columns</p>\n",
       "</div>"
      ],
      "text/plain": [
       "        Actual Value  Predicted Value  Difference\n",
       "94868           19.0        18.880274    0.119726\n",
       "101360           9.5         9.568123   -0.068123\n",
       "63892            6.0         5.686279    0.313721\n",
       "23882           14.5        14.587996   -0.087996\n",
       "9481            25.5        25.252775    0.247225\n",
       "...              ...              ...         ...\n",
       "73791            8.5         8.283846    0.216154\n",
       "50628           13.0        12.528666    0.471334\n",
       "78979            7.0         6.705533    0.294467\n",
       "62350           37.0        37.968133   -0.968133\n",
       "57591            9.0         8.808488    0.191512\n",
       "\n",
       "[22450 rows x 3 columns]"
      ]
     },
     "execution_count": 38,
     "metadata": {},
     "output_type": "execute_result"
    }
   ],
   "source": [
    "pred_df=pd.DataFrame({'Actual Value':y_test,'Predicted Value':y_pred,'Difference':y_test-y_pred})\n",
    "pred_df"
   ]
  },
  {
   "cell_type": "markdown",
   "metadata": {},
   "source": [
    "## Model Explainability"
   ]
  },
  {
   "cell_type": "markdown",
   "metadata": {},
   "source": [
    "Model explainability refers to the ability to understand how a model arrives at its results. This is particularly important for complex models, sometime called 'black boxes\" where the internal working can be difficult to interpret.\n",
    "\n",
    "Here are some key points about model explainability:\n",
    "- Transparency and Trust: By explaining how a model makes decisions, users can build trust in its recommendations and identify potential biases.\n",
    "- Improved Performance: Understanding a model's inner workings can help identify areas for improvement and fine-tuning.\n",
    "- Regulatory Compliance: In certain industries, regulations may require models to be explainable, especially when the decisions have a significant impact.\n",
    "\n",
    "There are various techniques used to achieve model explainability, depending on the specific model and desired level of detail. Some common approaches include:\n",
    "\n",
    "- Feature Importance: This technique highlights which input features have the most significant influence on the model's output.\n",
    "- Partial Dependence Plots (PDP): These plots visualize the marginal effect of individual features on the model's predictions.\n",
    "- SHapley Additive exPlanations (SHAP): This method assigns an attribution value to each feature, explaining how much it contributes to a specific prediction."
   ]
  },
  {
   "cell_type": "markdown",
   "metadata": {},
   "source": [
    "### Feature Importance\n",
    "- This technique highlights which features have the most significant influence on the model's output"
   ]
  },
  {
   "cell_type": "code",
   "execution_count": 43,
   "metadata": {},
   "outputs": [
    {
     "data": {
      "text/plain": [
       "Index(['VendorID', 'passenger_count', 'trip_distance', 'RatecodeID',\n",
       "       'store_and_fwd_flag', 'PULocationID', 'DOLocationID', 'payment_type',\n",
       "       'fare_amount', 'trip_duration', 'pickup_day_no', 'dropoff_day_no',\n",
       "       'pickup_hour', 'dropoff_hour', 'pickup_month', 'dropoff_month',\n",
       "       'pickup_year', 'dropoff_year'],\n",
       "      dtype='object')"
      ]
     },
     "execution_count": 43,
     "metadata": {},
     "output_type": "execute_result"
    }
   ],
   "source": [
    "dataset_1.columns"
   ]
  },
  {
   "cell_type": "code",
   "execution_count": 44,
   "metadata": {},
   "outputs": [],
   "source": [
    "features = ['VendorID', 'passenger_count', 'trip_distance', 'RatecodeID',\n",
    "       'store_and_fwd_flag', 'PULocationID', 'DOLocationID', 'payment_type',\n",
    "        'trip_duration', 'pickup_day_no', 'dropoff_day_no',\n",
    "       'pickup_hour', 'dropoff_hour', 'pickup_month', 'dropoff_month',\n",
    "       'pickup_year', 'dropoff_year']"
   ]
  },
  {
   "cell_type": "code",
   "execution_count": 45,
   "metadata": {},
   "outputs": [
    {
     "name": "stdout",
     "output_type": "stream",
     "text": [
      "VendorID: 0.0000\n",
      "passenger_count: 0.0000\n",
      "trip_distance: 0.3566\n",
      "RatecodeID: 0.1801\n",
      "store_and_fwd_flag: 45.6826\n",
      "PULocationID: 19.2873\n",
      "DOLocationID: 0.8900\n",
      "payment_type: 3.1141\n",
      "trip_duration: 0.2735\n",
      "pickup_day_no: 28.3262\n",
      "dropoff_day_no: 0.1808\n",
      "pickup_hour: 0.4731\n",
      "dropoff_hour: 0.5718\n",
      "pickup_month: 0.3410\n",
      "dropoff_month: 0.1699\n",
      "pickup_year: 0.1531\n",
      "dropoff_year: 0.0000\n"
     ]
    }
   ],
   "source": [
    "importances = cat_model.feature_importances_\n",
    "\n",
    "# Print the importances for each feature\n",
    "for feature, importance in zip(features, importances):\n",
    "    print(f\"{feature}: {importance:.4f}\")"
   ]
  },
  {
   "cell_type": "code",
   "execution_count": 47,
   "metadata": {},
   "outputs": [
    {
     "data": {
      "text/html": [
       "<div>\n",
       "<style scoped>\n",
       "    .dataframe tbody tr th:only-of-type {\n",
       "        vertical-align: middle;\n",
       "    }\n",
       "\n",
       "    .dataframe tbody tr th {\n",
       "        vertical-align: top;\n",
       "    }\n",
       "\n",
       "    .dataframe thead th {\n",
       "        text-align: right;\n",
       "    }\n",
       "</style>\n",
       "<table border=\"1\" class=\"dataframe\">\n",
       "  <thead>\n",
       "    <tr style=\"text-align: right;\">\n",
       "      <th></th>\n",
       "      <th>Feature</th>\n",
       "      <th>Importance</th>\n",
       "    </tr>\n",
       "  </thead>\n",
       "  <tbody>\n",
       "    <tr>\n",
       "      <th>4</th>\n",
       "      <td>store_and_fwd_flag</td>\n",
       "      <td>45.682559</td>\n",
       "    </tr>\n",
       "    <tr>\n",
       "      <th>9</th>\n",
       "      <td>pickup_day_no</td>\n",
       "      <td>28.326213</td>\n",
       "    </tr>\n",
       "    <tr>\n",
       "      <th>5</th>\n",
       "      <td>PULocationID</td>\n",
       "      <td>19.287291</td>\n",
       "    </tr>\n",
       "    <tr>\n",
       "      <th>7</th>\n",
       "      <td>payment_type</td>\n",
       "      <td>3.114114</td>\n",
       "    </tr>\n",
       "    <tr>\n",
       "      <th>6</th>\n",
       "      <td>DOLocationID</td>\n",
       "      <td>0.890000</td>\n",
       "    </tr>\n",
       "    <tr>\n",
       "      <th>12</th>\n",
       "      <td>dropoff_hour</td>\n",
       "      <td>0.571754</td>\n",
       "    </tr>\n",
       "    <tr>\n",
       "      <th>11</th>\n",
       "      <td>pickup_hour</td>\n",
       "      <td>0.473117</td>\n",
       "    </tr>\n",
       "    <tr>\n",
       "      <th>2</th>\n",
       "      <td>trip_distance</td>\n",
       "      <td>0.356554</td>\n",
       "    </tr>\n",
       "    <tr>\n",
       "      <th>13</th>\n",
       "      <td>pickup_month</td>\n",
       "      <td>0.340956</td>\n",
       "    </tr>\n",
       "    <tr>\n",
       "      <th>8</th>\n",
       "      <td>trip_duration</td>\n",
       "      <td>0.273454</td>\n",
       "    </tr>\n",
       "    <tr>\n",
       "      <th>10</th>\n",
       "      <td>dropoff_day_no</td>\n",
       "      <td>0.180830</td>\n",
       "    </tr>\n",
       "    <tr>\n",
       "      <th>3</th>\n",
       "      <td>RatecodeID</td>\n",
       "      <td>0.180101</td>\n",
       "    </tr>\n",
       "    <tr>\n",
       "      <th>14</th>\n",
       "      <td>dropoff_month</td>\n",
       "      <td>0.169936</td>\n",
       "    </tr>\n",
       "    <tr>\n",
       "      <th>15</th>\n",
       "      <td>pickup_year</td>\n",
       "      <td>0.153093</td>\n",
       "    </tr>\n",
       "    <tr>\n",
       "      <th>0</th>\n",
       "      <td>VendorID</td>\n",
       "      <td>0.000000</td>\n",
       "    </tr>\n",
       "    <tr>\n",
       "      <th>1</th>\n",
       "      <td>passenger_count</td>\n",
       "      <td>0.000000</td>\n",
       "    </tr>\n",
       "    <tr>\n",
       "      <th>16</th>\n",
       "      <td>dropoff_year</td>\n",
       "      <td>0.000000</td>\n",
       "    </tr>\n",
       "  </tbody>\n",
       "</table>\n",
       "</div>"
      ],
      "text/plain": [
       "               Feature  Importance\n",
       "4   store_and_fwd_flag   45.682559\n",
       "9        pickup_day_no   28.326213\n",
       "5         PULocationID   19.287291\n",
       "7         payment_type    3.114114\n",
       "6         DOLocationID    0.890000\n",
       "12        dropoff_hour    0.571754\n",
       "11         pickup_hour    0.473117\n",
       "2        trip_distance    0.356554\n",
       "13        pickup_month    0.340956\n",
       "8        trip_duration    0.273454\n",
       "10      dropoff_day_no    0.180830\n",
       "3           RatecodeID    0.180101\n",
       "14       dropoff_month    0.169936\n",
       "15         pickup_year    0.153093\n",
       "0             VendorID    0.000000\n",
       "1      passenger_count    0.000000\n",
       "16        dropoff_year    0.000000"
      ]
     },
     "execution_count": 47,
     "metadata": {},
     "output_type": "execute_result"
    }
   ],
   "source": [
    "#Creating a dataframe with feature importance ranking\n",
    "pd.DataFrame(list(zip(features, importances)), columns=['Feature', 'Importance']).sort_values(by=[\"Importance\"],ascending=False)"
   ]
  },
  {
   "cell_type": "markdown",
   "metadata": {},
   "source": [
    "### SHAP (SHapley Additive exPlanations)\n",
    "\n",
    "This is a technique used for model explainability, particularly for complex models like tree-based ensembles (random forests, XGBoost). It goes beyond feature importance by attributing a specific contribution to each feature for every prediction the model makes.\n",
    "\n",
    "SHAP leverages cooperative game theory, where each feature is like a player in a game. It calculates how much each feature contributes to the difference between the actual model prediction and the prediction made by a baseline model (e.g., predicting everyone gets approved or rejected).\n",
    "\n",
    "Benefits of SHAP Analysis:\n",
    "\n",
    "- Detailed Feature Contribution: Explains how each feature influences individual predictions, not just overall importance.\n",
    "- Model Debugging: Helps identify potential biases or unexpected feature interactions in the model.\n",
    "- Improved Feature Selection: Guides decisions on which features to keep or remove for better model performance.\n",
    "\n",
    "Limitations:\n",
    "\n",
    "- Computationally Expensive: Calculating SHAP values can be resource-intensive, especially for large datasets.\n",
    "- Interpretability: While offering more detail than feature importance, SHAP can still be complex to interpret for beginners."
   ]
  },
  {
   "cell_type": "code",
   "execution_count": 56,
   "metadata": {},
   "outputs": [],
   "source": [
    "#creating SHAP explainer\n",
    "import shap\n",
    "#Fits the explainer using the catboost regressor model\n",
    "explainer = shap.Explainer(cat_model.predict,X_test)"
   ]
  },
  {
   "cell_type": "code",
   "execution_count": 57,
   "metadata": {},
   "outputs": [
    {
     "name": "stderr",
     "output_type": "stream",
     "text": [
      "PermutationExplainer explainer: 22451it [2:28:01,  2.52it/s]                             \n"
     ]
    }
   ],
   "source": [
    "#Calculating SHAP values\n",
    "shap_values = explainer(X_test)"
   ]
  },
  {
   "cell_type": "code",
   "execution_count": 59,
   "metadata": {},
   "outputs": [
    {
     "data": {
      "text/plain": [
       ".values =\n",
       "array([[ 0.        ,  0.        , -0.02021108, ..., -0.00458099,\n",
       "         0.        ,  0.        ],\n",
       "       [ 0.        ,  0.        ,  0.02312454, ...,  0.00764397,\n",
       "         0.        ,  0.        ],\n",
       "       [ 0.        ,  0.        ,  0.01884706, ...,  0.00743175,\n",
       "         0.        ,  0.        ],\n",
       "       ...,\n",
       "       [ 0.        ,  0.        ,  0.02259809, ..., -0.02168808,\n",
       "         0.        ,  0.        ],\n",
       "       [ 0.        ,  0.        ,  0.00202401, ...,  0.04912639,\n",
       "         0.        ,  0.        ],\n",
       "       [ 0.        ,  0.        ,  0.02234892, ..., -0.00617919,\n",
       "         0.        ,  0.        ]])\n",
       "\n",
       ".base_values =\n",
       "array([12.94888397, 12.94888397, 12.94888397, ..., 12.94888397,\n",
       "       12.94888397, 12.94888397])\n",
       "\n",
       ".data =\n",
       "array([[ 1.        ,  0.        ,  0.90579638, ..., -0.40833909,\n",
       "         0.        , -0.00667424],\n",
       "       [ 1.        ,  0.        , -1.10400088, ..., -0.11997672,\n",
       "         0.        , -0.00667424],\n",
       "       [ 1.        ,  0.        , -1.10400088, ..., -1.27342617,\n",
       "         0.        , -0.00667424],\n",
       "       ...,\n",
       "       [ 1.        ,  0.        , -1.10400088, ..., -0.69670145,\n",
       "         0.        , -0.00667424],\n",
       "       [ 1.        ,  0.        ,  0.90579638, ..., -1.27342617,\n",
       "         0.        , -0.00667424],\n",
       "       [ 1.        ,  0.        , -1.10400088, ..., -1.27342617,\n",
       "         0.        , -0.00667424]])"
      ]
     },
     "execution_count": 59,
     "metadata": {},
     "output_type": "execute_result"
    }
   ],
   "source": [
    "shap_values"
   ]
  },
  {
   "cell_type": "code",
   "execution_count": 60,
   "metadata": {},
   "outputs": [
    {
     "data": {
      "image/png": "[encoded data removed]",
      "text/plain": [
       "<Figure size 800x650 with 1 Axes>"
      ]
     },
     "metadata": {},
     "output_type": "display_data"
    }
   ],
   "source": [
    "shap.plots.bar(shap_values)"
   ]
  },
  {
   "cell_type": "code",
   "execution_count": 61,
   "metadata": {},
   "outputs": [
    {
     "data": {
      "image/png": "[encoded data removed]",
      "text/plain": [
       "<Figure size 800x550 with 2 Axes>"
      ]
     },
     "metadata": {},
     "output_type": "display_data"
    }
   ],
   "source": [
    "shap.plots.beeswarm(shap_values)"
   ]
  },
  {
   "cell_type": "code",
   "execution_count": 62,
   "metadata": {},
   "outputs": [
    {
     "data": {
      "image/png": "[encoded data removed]",
      "text/plain": [
       "<Figure size 800x870 with 2 Axes>"
      ]
     },
     "metadata": {},
     "output_type": "display_data"
    }
   ],
   "source": [
    "shap.summary_plot(shap_values, plot_type='violin')"
   ]
  },
  {
   "cell_type": "code",
   "execution_count": 64,
   "metadata": {},
   "outputs": [
    {
     "data": {
      "text/plain": [
       "(112250, 18)"
      ]
     },
     "execution_count": 64,
     "metadata": {},
     "output_type": "execute_result"
    }
   ],
   "source": [
    "dataset_1.shape"
   ]
  },
  {
   "cell_type": "code",
   "execution_count": 63,
   "metadata": {},
   "outputs": [
    {
     "data": {
      "text/plain": [
       "Index(['VendorID', 'passenger_count', 'trip_distance', 'RatecodeID',\n",
       "       'store_and_fwd_flag', 'PULocationID', 'DOLocationID', 'payment_type',\n",
       "       'fare_amount', 'trip_duration', 'pickup_day_no', 'dropoff_day_no',\n",
       "       'pickup_hour', 'dropoff_hour', 'pickup_month', 'dropoff_month',\n",
       "       'pickup_year', 'dropoff_year'],\n",
       "      dtype='object')"
      ]
     },
     "execution_count": 63,
     "metadata": {},
     "output_type": "execute_result"
    }
   ],
   "source": [
    "dataset_1.columns"
   ]
  }
 ],
 "metadata": {
  "kernelspec": {
   "display_name": "Python 3",
   "language": "python",
   "name": "python3"
  },
  "language_info": {
   "codemirror_mode": {
    "name": "ipython",
    "version": 3
   },
   "file_extension": ".py",
   "mimetype": "text/x-python",
   "name": "python",
   "nbconvert_exporter": "python",
   "pygments_lexer": "ipython3",
   "version": "3.11.0"
  }
 },
 "nbformat": 4,
 "nbformat_minor": 2
}
