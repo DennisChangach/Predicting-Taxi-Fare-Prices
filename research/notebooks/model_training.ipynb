{
 "cells": [
  {
   "cell_type": "markdown",
   "metadata": {},
   "source": [
    "# Model Training"
   ]
  },
  {
   "cell_type": "markdown",
   "metadata": {},
   "source": [
    "## 1.1 Import Data and Required Packages"
   ]
  },
  {
   "cell_type": "code",
   "execution_count": 1,
   "metadata": {},
   "outputs": [],
   "source": [
    "# Basic Import\n",
    "import numpy as np\n",
    "import pandas as pd\n",
    "import matplotlib.pyplot as plt \n",
    "import seaborn as sns\n",
    "# Modelling\n",
    "from sklearn.metrics import mean_squared_error, r2_score\n",
    "from sklearn.neighbors import KNeighborsRegressor\n",
    "from sklearn.tree import DecisionTreeRegressor\n",
    "from sklearn.ensemble import RandomForestRegressor,AdaBoostRegressor\n",
    "from sklearn.svm import SVR\n",
    "from sklearn.linear_model import LinearRegression, Ridge,Lasso\n",
    "from sklearn.metrics import r2_score, mean_absolute_error, mean_squared_error\n",
    "from sklearn.model_selection import RandomizedSearchCV\n",
    "from catboost import CatBoostRegressor\n",
    "from xgboost import XGBRegressor\n",
    "import warnings"
   ]
  },
  {
   "cell_type": "markdown",
   "metadata": {},
   "source": [
    "### Import the sampled CSV file"
   ]
  },
  {
   "cell_type": "code",
   "execution_count": 6,
   "metadata": {},
   "outputs": [],
   "source": [
    "dataset = pd.read_csv(\"..\\..\\data\\Yellow_Taxi_Trip_Sample.csv\")"
   ]
  },
  {
   "cell_type": "code",
   "execution_count": 7,
   "metadata": {},
   "outputs": [
    {
     "data": {
      "text/html": [
       "<div>\n",
       "<style scoped>\n",
       "    .dataframe tbody tr th:only-of-type {\n",
       "        vertical-align: middle;\n",
       "    }\n",
       "\n",
       "    .dataframe tbody tr th {\n",
       "        vertical-align: top;\n",
       "    }\n",
       "\n",
       "    .dataframe thead th {\n",
       "        text-align: right;\n",
       "    }\n",
       "</style>\n",
       "<table border=\"1\" class=\"dataframe\">\n",
       "  <thead>\n",
       "    <tr style=\"text-align: right;\">\n",
       "      <th></th>\n",
       "      <th>VendorID</th>\n",
       "      <th>tpep_pickup_datetime</th>\n",
       "      <th>tpep_dropoff_datetime</th>\n",
       "      <th>passenger_count</th>\n",
       "      <th>trip_distance</th>\n",
       "      <th>RatecodeID</th>\n",
       "      <th>store_and_fwd_flag</th>\n",
       "      <th>PULocationID</th>\n",
       "      <th>DOLocationID</th>\n",
       "      <th>payment_type</th>\n",
       "      <th>fare_amount</th>\n",
       "      <th>extra</th>\n",
       "      <th>mta_tax</th>\n",
       "      <th>tip_amount</th>\n",
       "      <th>tolls_amount</th>\n",
       "      <th>improvement_surcharge</th>\n",
       "      <th>total_amount</th>\n",
       "    </tr>\n",
       "  </thead>\n",
       "  <tbody>\n",
       "    <tr>\n",
       "      <th>0</th>\n",
       "      <td>2</td>\n",
       "      <td>07/27/2017 06:04:13 PM</td>\n",
       "      <td>07/27/2017 06:42:53 PM</td>\n",
       "      <td>1</td>\n",
       "      <td>10.80</td>\n",
       "      <td>1</td>\n",
       "      <td>N</td>\n",
       "      <td>143</td>\n",
       "      <td>138</td>\n",
       "      <td>1</td>\n",
       "      <td>36.0</td>\n",
       "      <td>1.0</td>\n",
       "      <td>0.5</td>\n",
       "      <td>5.00</td>\n",
       "      <td>5.76</td>\n",
       "      <td>0.3</td>\n",
       "      <td>48.56</td>\n",
       "    </tr>\n",
       "    <tr>\n",
       "      <th>1</th>\n",
       "      <td>2</td>\n",
       "      <td>07/27/2017 06:30:35 PM</td>\n",
       "      <td>07/27/2017 06:52:03 PM</td>\n",
       "      <td>6</td>\n",
       "      <td>6.53</td>\n",
       "      <td>1</td>\n",
       "      <td>N</td>\n",
       "      <td>231</td>\n",
       "      <td>162</td>\n",
       "      <td>1</td>\n",
       "      <td>21.0</td>\n",
       "      <td>1.0</td>\n",
       "      <td>0.5</td>\n",
       "      <td>3.42</td>\n",
       "      <td>0.00</td>\n",
       "      <td>0.3</td>\n",
       "      <td>26.22</td>\n",
       "    </tr>\n",
       "    <tr>\n",
       "      <th>2</th>\n",
       "      <td>2</td>\n",
       "      <td>07/27/2017 06:01:39 PM</td>\n",
       "      <td>07/27/2017 06:24:32 PM</td>\n",
       "      <td>1</td>\n",
       "      <td>3.11</td>\n",
       "      <td>1</td>\n",
       "      <td>N</td>\n",
       "      <td>100</td>\n",
       "      <td>238</td>\n",
       "      <td>2</td>\n",
       "      <td>16.0</td>\n",
       "      <td>1.0</td>\n",
       "      <td>0.5</td>\n",
       "      <td>0.00</td>\n",
       "      <td>0.00</td>\n",
       "      <td>0.3</td>\n",
       "      <td>17.80</td>\n",
       "    </tr>\n",
       "    <tr>\n",
       "      <th>3</th>\n",
       "      <td>2</td>\n",
       "      <td>07/27/2017 06:31:48 PM</td>\n",
       "      <td>07/27/2017 06:43:38 PM</td>\n",
       "      <td>1</td>\n",
       "      <td>0.71</td>\n",
       "      <td>1</td>\n",
       "      <td>N</td>\n",
       "      <td>233</td>\n",
       "      <td>230</td>\n",
       "      <td>1</td>\n",
       "      <td>8.5</td>\n",
       "      <td>1.0</td>\n",
       "      <td>0.5</td>\n",
       "      <td>2.06</td>\n",
       "      <td>0.00</td>\n",
       "      <td>0.3</td>\n",
       "      <td>12.36</td>\n",
       "    </tr>\n",
       "    <tr>\n",
       "      <th>4</th>\n",
       "      <td>2</td>\n",
       "      <td>07/27/2017 06:10:56 PM</td>\n",
       "      <td>07/27/2017 06:19:01 PM</td>\n",
       "      <td>1</td>\n",
       "      <td>1.35</td>\n",
       "      <td>1</td>\n",
       "      <td>N</td>\n",
       "      <td>186</td>\n",
       "      <td>249</td>\n",
       "      <td>1</td>\n",
       "      <td>7.5</td>\n",
       "      <td>1.0</td>\n",
       "      <td>0.5</td>\n",
       "      <td>2.79</td>\n",
       "      <td>0.00</td>\n",
       "      <td>0.3</td>\n",
       "      <td>12.09</td>\n",
       "    </tr>\n",
       "  </tbody>\n",
       "</table>\n",
       "</div>"
      ],
      "text/plain": [
       "   VendorID    tpep_pickup_datetime   tpep_dropoff_datetime  passenger_count  \\\n",
       "0         2  07/27/2017 06:04:13 PM  07/27/2017 06:42:53 PM                1   \n",
       "1         2  07/27/2017 06:30:35 PM  07/27/2017 06:52:03 PM                6   \n",
       "2         2  07/27/2017 06:01:39 PM  07/27/2017 06:24:32 PM                1   \n",
       "3         2  07/27/2017 06:31:48 PM  07/27/2017 06:43:38 PM                1   \n",
       "4         2  07/27/2017 06:10:56 PM  07/27/2017 06:19:01 PM                1   \n",
       "\n",
       "   trip_distance  RatecodeID store_and_fwd_flag  PULocationID  DOLocationID  \\\n",
       "0          10.80           1                  N           143           138   \n",
       "1           6.53           1                  N           231           162   \n",
       "2           3.11           1                  N           100           238   \n",
       "3           0.71           1                  N           233           230   \n",
       "4           1.35           1                  N           186           249   \n",
       "\n",
       "   payment_type  fare_amount  extra  mta_tax  tip_amount  tolls_amount  \\\n",
       "0             1         36.0    1.0      0.5        5.00          5.76   \n",
       "1             1         21.0    1.0      0.5        3.42          0.00   \n",
       "2             2         16.0    1.0      0.5        0.00          0.00   \n",
       "3             1          8.5    1.0      0.5        2.06          0.00   \n",
       "4             1          7.5    1.0      0.5        2.79          0.00   \n",
       "\n",
       "   improvement_surcharge  total_amount  \n",
       "0                    0.3         48.56  \n",
       "1                    0.3         26.22  \n",
       "2                    0.3         17.80  \n",
       "3                    0.3         12.36  \n",
       "4                    0.3         12.09  "
      ]
     },
     "execution_count": 7,
     "metadata": {},
     "output_type": "execute_result"
    }
   ],
   "source": [
    "dataset.head()"
   ]
  },
  {
   "cell_type": "code",
   "execution_count": 8,
   "metadata": {},
   "outputs": [
    {
     "name": "stdout",
     "output_type": "stream",
     "text": [
      "<class 'pandas.core.frame.DataFrame'>\n",
      "RangeIndex: 113118 entries, 0 to 113117\n",
      "Data columns (total 17 columns):\n",
      " #   Column                 Non-Null Count   Dtype  \n",
      "---  ------                 --------------   -----  \n",
      " 0   VendorID               113118 non-null  int64  \n",
      " 1   tpep_pickup_datetime   113118 non-null  object \n",
      " 2   tpep_dropoff_datetime  113118 non-null  object \n",
      " 3   passenger_count        113118 non-null  int64  \n",
      " 4   trip_distance          113118 non-null  float64\n",
      " 5   RatecodeID             113118 non-null  int64  \n",
      " 6   store_and_fwd_flag     113118 non-null  object \n",
      " 7   PULocationID           113118 non-null  int64  \n",
      " 8   DOLocationID           113118 non-null  int64  \n",
      " 9   payment_type           113118 non-null  int64  \n",
      " 10  fare_amount            113118 non-null  float64\n",
      " 11  extra                  113118 non-null  float64\n",
      " 12  mta_tax                113118 non-null  float64\n",
      " 13  tip_amount             113118 non-null  float64\n",
      " 14  tolls_amount           113118 non-null  float64\n",
      " 15  improvement_surcharge  113118 non-null  float64\n",
      " 16  total_amount           113118 non-null  float64\n",
      "dtypes: float64(8), int64(6), object(3)\n",
      "memory usage: 14.7+ MB\n"
     ]
    }
   ],
   "source": [
    "dataset.info()"
   ]
  },
  {
   "cell_type": "markdown",
   "metadata": {},
   "source": [
    "## Data Preparation\n",
    "\n",
    "- This entails preparing the data before data transformation\n",
    "\n",
    "This includes:\n",
    "- Loading the Raw Data - sampled data\n",
    "- Feature Creation: [Trip Duration, Hour, Day of Week No, Month, Year]\n",
    "- Dropping the rows that are not needed for modelling\n",
    "- Drop Features: ['extra',\n",
    "       'mta_tax', 'tip_amount', 'tolls_amount', 'improvement_surcharge',\n",
    "       'total_amount','tpep_pickup_datetime', 'tpep_dropoff_datetime']"
   ]
  },
  {
   "cell_type": "code",
   "execution_count": 9,
   "metadata": {},
   "outputs": [
    {
     "data": {
      "text/plain": [
       "(113118, 17)"
      ]
     },
     "execution_count": 9,
     "metadata": {},
     "output_type": "execute_result"
    }
   ],
   "source": [
    "dataset.shape"
   ]
  },
  {
   "cell_type": "markdown",
   "metadata": {},
   "source": [
    "**Feature Creation**"
   ]
  },
  {
   "cell_type": "code",
   "execution_count": 10,
   "metadata": {},
   "outputs": [
    {
     "name": "stderr",
     "output_type": "stream",
     "text": [
      "C:\\Users\\ADMIN\\AppData\\Local\\Temp\\ipykernel_20600\\283500179.py:2: UserWarning: Could not infer format, so each element will be parsed individually, falling back to `dateutil`. To ensure parsing is consistent and as-expected, please specify a format.\n",
      "  dataset[\"tpep_pickup_datetime\"] = pd.to_datetime(dataset[\"tpep_pickup_datetime\"])\n",
      "C:\\Users\\ADMIN\\AppData\\Local\\Temp\\ipykernel_20600\\283500179.py:3: UserWarning: Could not infer format, so each element will be parsed individually, falling back to `dateutil`. To ensure parsing is consistent and as-expected, please specify a format.\n",
      "  dataset[\"tpep_dropoff_datetime\"] = pd.to_datetime(dataset[\"tpep_dropoff_datetime\"])\n"
     ]
    }
   ],
   "source": [
    "#Converting to datetime\n",
    "dataset[\"tpep_pickup_datetime\"] = pd.to_datetime(dataset[\"tpep_pickup_datetime\"])\n",
    "dataset[\"tpep_dropoff_datetime\"] = pd.to_datetime(dataset[\"tpep_dropoff_datetime\"])"
   ]
  },
  {
   "cell_type": "code",
   "execution_count": 11,
   "metadata": {},
   "outputs": [],
   "source": [
    "#calculating trip duration(in minutes) using pickup & dropoff times\n",
    "dataset['trip_duration'] = (dataset[\"tpep_dropoff_datetime\"] - dataset[\"tpep_pickup_datetime\"]).dt.total_seconds() / 60"
   ]
  },
  {
   "cell_type": "code",
   "execution_count": 12,
   "metadata": {},
   "outputs": [],
   "source": [
    "#Creating the time variables\n",
    "dataset['pickup_day_no']=dataset['tpep_pickup_datetime'].dt.weekday\n",
    "dataset['dropoff_day_no']=dataset['tpep_dropoff_datetime'].dt.weekday\n",
    "dataset['pickup_hour']=dataset['tpep_pickup_datetime'].dt.hour\n",
    "dataset['dropoff_hour']=dataset['tpep_dropoff_datetime'].dt.hour\n",
    "dataset['pickup_month']=dataset['tpep_pickup_datetime'].dt.month\n",
    "dataset['dropoff_month']=dataset['tpep_dropoff_datetime'].dt.month\n",
    "dataset['pickup_year']=dataset['tpep_pickup_datetime'].dt.year\n",
    "dataset['dropoff_year']=dataset['tpep_dropoff_datetime'].dt.year"
   ]
  },
  {
   "cell_type": "markdown",
   "metadata": {},
   "source": [
    "**Filtering the dataset**"
   ]
  },
  {
   "cell_type": "code",
   "execution_count": 17,
   "metadata": {},
   "outputs": [],
   "source": [
    "#removing records where trip duration, trip distance and total fare amount are recorded as 0\n",
    "dataset_1 = dataset[(dataset['trip_duration'] !=0) & (dataset['trip_distance']!=0) & (dataset['fare_amount']>0)].reset_index(drop=True)"
   ]
  },
  {
   "cell_type": "code",
   "execution_count": 18,
   "metadata": {},
   "outputs": [],
   "source": [
    "#Dropping the columns that will NOT be used in the analysis & building the model\n",
    "#dropping the cplumns\n",
    "dataset_1.drop(['extra',\n",
    "       'mta_tax', 'tip_amount', 'tolls_amount', 'improvement_surcharge',\n",
    "       'total_amount','tpep_pickup_datetime','tpep_dropoff_datetime'],axis=1,inplace=True)"
   ]
  },
  {
   "cell_type": "code",
   "execution_count": 19,
   "metadata": {},
   "outputs": [
    {
     "data": {
      "text/plain": [
       "Index(['VendorID', 'passenger_count', 'trip_distance', 'RatecodeID',\n",
       "       'store_and_fwd_flag', 'PULocationID', 'DOLocationID', 'payment_type',\n",
       "       'fare_amount', 'trip_duration', 'pickup_day_no', 'dropoff_day_no',\n",
       "       'pickup_hour', 'dropoff_hour', 'pickup_month', 'dropoff_month',\n",
       "       'pickup_year', 'dropoff_year'],\n",
       "      dtype='object')"
      ]
     },
     "execution_count": 19,
     "metadata": {},
     "output_type": "execute_result"
    }
   ],
   "source": [
    "dataset_1.columns"
   ]
  },
  {
   "cell_type": "code",
   "execution_count": 20,
   "metadata": {},
   "outputs": [
    {
     "data": {
      "text/html": [
       "<div>\n",
       "<style scoped>\n",
       "    .dataframe tbody tr th:only-of-type {\n",
       "        vertical-align: middle;\n",
       "    }\n",
       "\n",
       "    .dataframe tbody tr th {\n",
       "        vertical-align: top;\n",
       "    }\n",
       "\n",
       "    .dataframe thead th {\n",
       "        text-align: right;\n",
       "    }\n",
       "</style>\n",
       "<table border=\"1\" class=\"dataframe\">\n",
       "  <thead>\n",
       "    <tr style=\"text-align: right;\">\n",
       "      <th></th>\n",
       "      <th>VendorID</th>\n",
       "      <th>passenger_count</th>\n",
       "      <th>trip_distance</th>\n",
       "      <th>RatecodeID</th>\n",
       "      <th>store_and_fwd_flag</th>\n",
       "      <th>PULocationID</th>\n",
       "      <th>DOLocationID</th>\n",
       "      <th>payment_type</th>\n",
       "      <th>fare_amount</th>\n",
       "      <th>trip_duration</th>\n",
       "      <th>pickup_day_no</th>\n",
       "      <th>dropoff_day_no</th>\n",
       "      <th>pickup_hour</th>\n",
       "      <th>dropoff_hour</th>\n",
       "      <th>pickup_month</th>\n",
       "      <th>dropoff_month</th>\n",
       "      <th>pickup_year</th>\n",
       "      <th>dropoff_year</th>\n",
       "    </tr>\n",
       "  </thead>\n",
       "  <tbody>\n",
       "    <tr>\n",
       "      <th>0</th>\n",
       "      <td>2</td>\n",
       "      <td>1</td>\n",
       "      <td>10.80</td>\n",
       "      <td>1</td>\n",
       "      <td>N</td>\n",
       "      <td>143</td>\n",
       "      <td>138</td>\n",
       "      <td>1</td>\n",
       "      <td>36.0</td>\n",
       "      <td>38.666667</td>\n",
       "      <td>3</td>\n",
       "      <td>3</td>\n",
       "      <td>18</td>\n",
       "      <td>18</td>\n",
       "      <td>7</td>\n",
       "      <td>7</td>\n",
       "      <td>2017</td>\n",
       "      <td>2017</td>\n",
       "    </tr>\n",
       "    <tr>\n",
       "      <th>1</th>\n",
       "      <td>2</td>\n",
       "      <td>6</td>\n",
       "      <td>6.53</td>\n",
       "      <td>1</td>\n",
       "      <td>N</td>\n",
       "      <td>231</td>\n",
       "      <td>162</td>\n",
       "      <td>1</td>\n",
       "      <td>21.0</td>\n",
       "      <td>21.466667</td>\n",
       "      <td>3</td>\n",
       "      <td>3</td>\n",
       "      <td>18</td>\n",
       "      <td>18</td>\n",
       "      <td>7</td>\n",
       "      <td>7</td>\n",
       "      <td>2017</td>\n",
       "      <td>2017</td>\n",
       "    </tr>\n",
       "    <tr>\n",
       "      <th>2</th>\n",
       "      <td>2</td>\n",
       "      <td>1</td>\n",
       "      <td>3.11</td>\n",
       "      <td>1</td>\n",
       "      <td>N</td>\n",
       "      <td>100</td>\n",
       "      <td>238</td>\n",
       "      <td>2</td>\n",
       "      <td>16.0</td>\n",
       "      <td>22.883333</td>\n",
       "      <td>3</td>\n",
       "      <td>3</td>\n",
       "      <td>18</td>\n",
       "      <td>18</td>\n",
       "      <td>7</td>\n",
       "      <td>7</td>\n",
       "      <td>2017</td>\n",
       "      <td>2017</td>\n",
       "    </tr>\n",
       "    <tr>\n",
       "      <th>3</th>\n",
       "      <td>2</td>\n",
       "      <td>1</td>\n",
       "      <td>0.71</td>\n",
       "      <td>1</td>\n",
       "      <td>N</td>\n",
       "      <td>233</td>\n",
       "      <td>230</td>\n",
       "      <td>1</td>\n",
       "      <td>8.5</td>\n",
       "      <td>11.833333</td>\n",
       "      <td>3</td>\n",
       "      <td>3</td>\n",
       "      <td>18</td>\n",
       "      <td>18</td>\n",
       "      <td>7</td>\n",
       "      <td>7</td>\n",
       "      <td>2017</td>\n",
       "      <td>2017</td>\n",
       "    </tr>\n",
       "    <tr>\n",
       "      <th>4</th>\n",
       "      <td>2</td>\n",
       "      <td>1</td>\n",
       "      <td>1.35</td>\n",
       "      <td>1</td>\n",
       "      <td>N</td>\n",
       "      <td>186</td>\n",
       "      <td>249</td>\n",
       "      <td>1</td>\n",
       "      <td>7.5</td>\n",
       "      <td>8.083333</td>\n",
       "      <td>3</td>\n",
       "      <td>3</td>\n",
       "      <td>18</td>\n",
       "      <td>18</td>\n",
       "      <td>7</td>\n",
       "      <td>7</td>\n",
       "      <td>2017</td>\n",
       "      <td>2017</td>\n",
       "    </tr>\n",
       "  </tbody>\n",
       "</table>\n",
       "</div>"
      ],
      "text/plain": [
       "   VendorID  passenger_count  trip_distance  RatecodeID store_and_fwd_flag  \\\n",
       "0         2                1          10.80           1                  N   \n",
       "1         2                6           6.53           1                  N   \n",
       "2         2                1           3.11           1                  N   \n",
       "3         2                1           0.71           1                  N   \n",
       "4         2                1           1.35           1                  N   \n",
       "\n",
       "   PULocationID  DOLocationID  payment_type  fare_amount  trip_duration  \\\n",
       "0           143           138             1         36.0      38.666667   \n",
       "1           231           162             1         21.0      21.466667   \n",
       "2           100           238             2         16.0      22.883333   \n",
       "3           233           230             1          8.5      11.833333   \n",
       "4           186           249             1          7.5       8.083333   \n",
       "\n",
       "   pickup_day_no  dropoff_day_no  pickup_hour  dropoff_hour  pickup_month  \\\n",
       "0              3               3           18            18             7   \n",
       "1              3               3           18            18             7   \n",
       "2              3               3           18            18             7   \n",
       "3              3               3           18            18             7   \n",
       "4              3               3           18            18             7   \n",
       "\n",
       "   dropoff_month  pickup_year  dropoff_year  \n",
       "0              7         2017          2017  \n",
       "1              7         2017          2017  \n",
       "2              7         2017          2017  \n",
       "3              7         2017          2017  \n",
       "4              7         2017          2017  "
      ]
     },
     "execution_count": 20,
     "metadata": {},
     "output_type": "execute_result"
    }
   ],
   "source": [
    "dataset_1.head()"
   ]
  },
  {
   "cell_type": "markdown",
   "metadata": {},
   "source": [
    "### Preparing X and Y variables"
   ]
  },
  {
   "cell_type": "code",
   "execution_count": 21,
   "metadata": {},
   "outputs": [],
   "source": [
    "df = dataset_1.copy()"
   ]
  },
  {
   "cell_type": "code",
   "execution_count": 22,
   "metadata": {},
   "outputs": [],
   "source": [
    "X = df.drop(columns=['fare_amount'],axis=1)"
   ]
  },
  {
   "cell_type": "code",
   "execution_count": 23,
   "metadata": {},
   "outputs": [
    {
     "data": {
      "text/html": [
       "<div>\n",
       "<style scoped>\n",
       "    .dataframe tbody tr th:only-of-type {\n",
       "        vertical-align: middle;\n",
       "    }\n",
       "\n",
       "    .dataframe tbody tr th {\n",
       "        vertical-align: top;\n",
       "    }\n",
       "\n",
       "    .dataframe thead th {\n",
       "        text-align: right;\n",
       "    }\n",
       "</style>\n",
       "<table border=\"1\" class=\"dataframe\">\n",
       "  <thead>\n",
       "    <tr style=\"text-align: right;\">\n",
       "      <th></th>\n",
       "      <th>VendorID</th>\n",
       "      <th>passenger_count</th>\n",
       "      <th>trip_distance</th>\n",
       "      <th>RatecodeID</th>\n",
       "      <th>store_and_fwd_flag</th>\n",
       "      <th>PULocationID</th>\n",
       "      <th>DOLocationID</th>\n",
       "      <th>payment_type</th>\n",
       "      <th>trip_duration</th>\n",
       "      <th>pickup_day_no</th>\n",
       "      <th>dropoff_day_no</th>\n",
       "      <th>pickup_hour</th>\n",
       "      <th>dropoff_hour</th>\n",
       "      <th>pickup_month</th>\n",
       "      <th>dropoff_month</th>\n",
       "      <th>pickup_year</th>\n",
       "      <th>dropoff_year</th>\n",
       "    </tr>\n",
       "  </thead>\n",
       "  <tbody>\n",
       "    <tr>\n",
       "      <th>0</th>\n",
       "      <td>2</td>\n",
       "      <td>1</td>\n",
       "      <td>10.80</td>\n",
       "      <td>1</td>\n",
       "      <td>N</td>\n",
       "      <td>143</td>\n",
       "      <td>138</td>\n",
       "      <td>1</td>\n",
       "      <td>38.666667</td>\n",
       "      <td>3</td>\n",
       "      <td>3</td>\n",
       "      <td>18</td>\n",
       "      <td>18</td>\n",
       "      <td>7</td>\n",
       "      <td>7</td>\n",
       "      <td>2017</td>\n",
       "      <td>2017</td>\n",
       "    </tr>\n",
       "    <tr>\n",
       "      <th>1</th>\n",
       "      <td>2</td>\n",
       "      <td>6</td>\n",
       "      <td>6.53</td>\n",
       "      <td>1</td>\n",
       "      <td>N</td>\n",
       "      <td>231</td>\n",
       "      <td>162</td>\n",
       "      <td>1</td>\n",
       "      <td>21.466667</td>\n",
       "      <td>3</td>\n",
       "      <td>3</td>\n",
       "      <td>18</td>\n",
       "      <td>18</td>\n",
       "      <td>7</td>\n",
       "      <td>7</td>\n",
       "      <td>2017</td>\n",
       "      <td>2017</td>\n",
       "    </tr>\n",
       "    <tr>\n",
       "      <th>2</th>\n",
       "      <td>2</td>\n",
       "      <td>1</td>\n",
       "      <td>3.11</td>\n",
       "      <td>1</td>\n",
       "      <td>N</td>\n",
       "      <td>100</td>\n",
       "      <td>238</td>\n",
       "      <td>2</td>\n",
       "      <td>22.883333</td>\n",
       "      <td>3</td>\n",
       "      <td>3</td>\n",
       "      <td>18</td>\n",
       "      <td>18</td>\n",
       "      <td>7</td>\n",
       "      <td>7</td>\n",
       "      <td>2017</td>\n",
       "      <td>2017</td>\n",
       "    </tr>\n",
       "    <tr>\n",
       "      <th>3</th>\n",
       "      <td>2</td>\n",
       "      <td>1</td>\n",
       "      <td>0.71</td>\n",
       "      <td>1</td>\n",
       "      <td>N</td>\n",
       "      <td>233</td>\n",
       "      <td>230</td>\n",
       "      <td>1</td>\n",
       "      <td>11.833333</td>\n",
       "      <td>3</td>\n",
       "      <td>3</td>\n",
       "      <td>18</td>\n",
       "      <td>18</td>\n",
       "      <td>7</td>\n",
       "      <td>7</td>\n",
       "      <td>2017</td>\n",
       "      <td>2017</td>\n",
       "    </tr>\n",
       "    <tr>\n",
       "      <th>4</th>\n",
       "      <td>2</td>\n",
       "      <td>1</td>\n",
       "      <td>1.35</td>\n",
       "      <td>1</td>\n",
       "      <td>N</td>\n",
       "      <td>186</td>\n",
       "      <td>249</td>\n",
       "      <td>1</td>\n",
       "      <td>8.083333</td>\n",
       "      <td>3</td>\n",
       "      <td>3</td>\n",
       "      <td>18</td>\n",
       "      <td>18</td>\n",
       "      <td>7</td>\n",
       "      <td>7</td>\n",
       "      <td>2017</td>\n",
       "      <td>2017</td>\n",
       "    </tr>\n",
       "  </tbody>\n",
       "</table>\n",
       "</div>"
      ],
      "text/plain": [
       "   VendorID  passenger_count  trip_distance  RatecodeID store_and_fwd_flag  \\\n",
       "0         2                1          10.80           1                  N   \n",
       "1         2                6           6.53           1                  N   \n",
       "2         2                1           3.11           1                  N   \n",
       "3         2                1           0.71           1                  N   \n",
       "4         2                1           1.35           1                  N   \n",
       "\n",
       "   PULocationID  DOLocationID  payment_type  trip_duration  pickup_day_no  \\\n",
       "0           143           138             1      38.666667              3   \n",
       "1           231           162             1      21.466667              3   \n",
       "2           100           238             2      22.883333              3   \n",
       "3           233           230             1      11.833333              3   \n",
       "4           186           249             1       8.083333              3   \n",
       "\n",
       "   dropoff_day_no  pickup_hour  dropoff_hour  pickup_month  dropoff_month  \\\n",
       "0               3           18            18             7              7   \n",
       "1               3           18            18             7              7   \n",
       "2               3           18            18             7              7   \n",
       "3               3           18            18             7              7   \n",
       "4               3           18            18             7              7   \n",
       "\n",
       "   pickup_year  dropoff_year  \n",
       "0         2017          2017  \n",
       "1         2017          2017  \n",
       "2         2017          2017  \n",
       "3         2017          2017  \n",
       "4         2017          2017  "
      ]
     },
     "execution_count": 23,
     "metadata": {},
     "output_type": "execute_result"
    }
   ],
   "source": [
    "X.head()"
   ]
  },
  {
   "cell_type": "code",
   "execution_count": 26,
   "metadata": {},
   "outputs": [
    {
     "name": "stdout",
     "output_type": "stream",
     "text": [
      "<class 'pandas.core.frame.DataFrame'>\n",
      "RangeIndex: 112250 entries, 0 to 112249\n",
      "Data columns (total 17 columns):\n",
      " #   Column              Non-Null Count   Dtype  \n",
      "---  ------              --------------   -----  \n",
      " 0   VendorID            112250 non-null  int64  \n",
      " 1   passenger_count     112250 non-null  int64  \n",
      " 2   trip_distance       112250 non-null  float64\n",
      " 3   RatecodeID          112250 non-null  int64  \n",
      " 4   store_and_fwd_flag  112250 non-null  object \n",
      " 5   PULocationID        112250 non-null  int64  \n",
      " 6   DOLocationID        112250 non-null  int64  \n",
      " 7   payment_type        112250 non-null  int64  \n",
      " 8   trip_duration       112250 non-null  float64\n",
      " 9   pickup_day_no       112250 non-null  int32  \n",
      " 10  dropoff_day_no      112250 non-null  int32  \n",
      " 11  pickup_hour         112250 non-null  int32  \n",
      " 12  dropoff_hour        112250 non-null  int32  \n",
      " 13  pickup_month        112250 non-null  int32  \n",
      " 14  dropoff_month       112250 non-null  int32  \n",
      " 15  pickup_year         112250 non-null  int32  \n",
      " 16  dropoff_year        112250 non-null  int32  \n",
      "dtypes: float64(2), int32(8), int64(6), object(1)\n",
      "memory usage: 11.1+ MB\n"
     ]
    }
   ],
   "source": [
    "X.info()"
   ]
  },
  {
   "cell_type": "code",
   "execution_count": 24,
   "metadata": {},
   "outputs": [],
   "source": [
    "y = df['fare_amount']"
   ]
  },
  {
   "cell_type": "code",
   "execution_count": 25,
   "metadata": {},
   "outputs": [
    {
     "data": {
      "text/plain": [
       "0         36.0\n",
       "1         21.0\n",
       "2         16.0\n",
       "3          8.5\n",
       "4          7.5\n",
       "          ... \n",
       "112245     9.0\n",
       "112246     5.5\n",
       "112247    26.0\n",
       "112248     8.0\n",
       "112249    18.5\n",
       "Name: fare_amount, Length: 112250, dtype: float64"
      ]
     },
     "execution_count": 25,
     "metadata": {},
     "output_type": "execute_result"
    }
   ],
   "source": [
    "y"
   ]
  },
  {
   "cell_type": "code",
   "execution_count": 27,
   "metadata": {},
   "outputs": [],
   "source": [
    "# Create Column Transformer with 3 types of transformers\n",
    "num_features = X.select_dtypes(exclude=\"object\").columns\n",
    "cat_features = X.select_dtypes(include=\"object\").columns\n",
    "\n",
    "from sklearn.preprocessing import OneHotEncoder, StandardScaler\n",
    "from sklearn.compose import ColumnTransformer\n",
    "\n",
    "numeric_transformer = StandardScaler()\n",
    "oh_transformer = OneHotEncoder()\n",
    "\n",
    "preprocessor = ColumnTransformer(\n",
    "    [\n",
    "        (\"OneHotEncoder\", oh_transformer, cat_features),\n",
    "         (\"StandardScaler\", numeric_transformer, num_features),        \n",
    "    ]\n",
    ")"
   ]
  },
  {
   "cell_type": "code",
   "execution_count": 28,
   "metadata": {},
   "outputs": [],
   "source": [
    "X = preprocessor.fit_transform(X)"
   ]
  },
  {
   "cell_type": "code",
   "execution_count": 29,
   "metadata": {},
   "outputs": [
    {
     "data": {
      "text/plain": [
       "array([[ 1.        ,  0.        ,  0.90579638, ...,  0.16838564,\n",
       "         0.        , -0.00667424],\n",
       "       [ 1.        ,  0.        ,  0.90579638, ...,  0.16838564,\n",
       "         0.        , -0.00667424],\n",
       "       [ 1.        ,  0.        ,  0.90579638, ...,  0.16838564,\n",
       "         0.        , -0.00667424],\n",
       "       ...,\n",
       "       [ 1.        ,  0.        , -1.10400088, ...,  0.16838564,\n",
       "         0.        , -0.00667424],\n",
       "       [ 1.        ,  0.        ,  0.90579638, ...,  0.16838564,\n",
       "         0.        , -0.00667424],\n",
       "       [ 1.        ,  0.        , -1.10400088, ...,  0.16838564,\n",
       "         0.        , -0.00667424]])"
      ]
     },
     "execution_count": 29,
     "metadata": {},
     "output_type": "execute_result"
    }
   ],
   "source": [
    "X"
   ]
  },
  {
   "cell_type": "code",
   "execution_count": 30,
   "metadata": {},
   "outputs": [
    {
     "data": {
      "text/plain": [
       "(112250, 18)"
      ]
     },
     "execution_count": 30,
     "metadata": {},
     "output_type": "execute_result"
    }
   ],
   "source": [
    "X.shape"
   ]
  },
  {
   "cell_type": "code",
   "execution_count": 31,
   "metadata": {},
   "outputs": [
    {
     "data": {
      "text/plain": [
       "((89800, 18), (22450, 18))"
      ]
     },
     "execution_count": 31,
     "metadata": {},
     "output_type": "execute_result"
    }
   ],
   "source": [
    "# separate dataset into train and test\n",
    "from sklearn.model_selection import train_test_split\n",
    "X_train, X_test, y_train, y_test = train_test_split(X,y,test_size=0.2,random_state=42)\n",
    "X_train.shape, X_test.shape"
   ]
  },
  {
   "cell_type": "code",
   "execution_count": null,
   "metadata": {},
   "outputs": [],
   "source": []
  },
  {
   "cell_type": "code",
   "execution_count": null,
   "metadata": {},
   "outputs": [],
   "source": []
  },
  {
   "cell_type": "code",
   "execution_count": null,
   "metadata": {},
   "outputs": [],
   "source": []
  },
  {
   "cell_type": "code",
   "execution_count": null,
   "metadata": {},
   "outputs": [],
   "source": []
  },
  {
   "cell_type": "code",
   "execution_count": null,
   "metadata": {},
   "outputs": [],
   "source": []
  }
 ],
 "metadata": {
  "kernelspec": {
   "display_name": "Python 3",
   "language": "python",
   "name": "python3"
  },
  "language_info": {
   "codemirror_mode": {
    "name": "ipython",
    "version": 3
   },
   "file_extension": ".py",
   "mimetype": "text/x-python",
   "name": "python",
   "nbconvert_exporter": "python",
   "pygments_lexer": "ipython3",
   "version": "3.11.0"
  }
 },
 "nbformat": 4,
 "nbformat_minor": 2
}
