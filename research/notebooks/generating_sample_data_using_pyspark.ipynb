{
 "cells": [
  {
   "cell_type": "markdown",
   "id": "82dc9f19",
   "metadata": {},
   "source": [
    "## Generating Sample Data\n",
    "\n",
    "The goal is to generate sample data from the raw data pulled from data source. \n",
    "\n",
    "## Data Collection\n",
    "- Data Source: 2017 Yellow Taxi Trip Data: https://data.cityofnewyork.us/Transportation/2017-Yellow-Taxi-Trip-Data/biws-g3hs/data\n",
    "- The data is generated from the trip record submission made by yellow taxi Technology Serivice Providers(TSPs). Each row represents a single trip in a yellow taxi. The trip records include fields capturing pick-up and drop-off dates/times, pick-up and drop-off taxi zone locations, trip distances, itemized fares, rate types, payment types, and driver-reported passenger counts.\n",
    "- We'll generate a sample of 100,000 rows to use for EDA and model training\n",
    "\n"
   ]
  },
  {
   "cell_type": "markdown",
   "id": "a0edee76",
   "metadata": {},
   "source": [
    "Importing required packages"
   ]
  },
  {
   "cell_type": "code",
   "execution_count": 1,
   "id": "ce6d98ce",
   "metadata": {},
   "outputs": [],
   "source": [
    "from pyspark.sql import SparkSession"
   ]
  },
  {
   "cell_type": "code",
   "execution_count": 2,
   "id": "d30ec4cc",
   "metadata": {},
   "outputs": [],
   "source": [
    "# Create SparkSession\n",
    "spark = SparkSession.builder.appName(\"CSV_Sample\").getOrCreate()"
   ]
  },
  {
   "cell_type": "code",
   "execution_count": 5,
   "id": "afa9257a",
   "metadata": {},
   "outputs": [],
   "source": [
    "#Reading the dataset\n",
    "raw_data = spark.read.csv(\"..\\..\\data\\\\2017_Yellow_Taxi_Trip_Data.csv\",header = True,inferSchema=True)"
   ]
  },
  {
   "cell_type": "code",
   "execution_count": 6,
   "id": "82f62a7a",
   "metadata": {},
   "outputs": [
    {
     "name": "stdout",
     "output_type": "stream",
     "text": [
      "+--------+--------------------+---------------------+---------------+-------------+----------+------------------+------------+------------+------------+-----------+-----+-------+----------+------------+---------------------+------------+\n",
      "|VendorID|tpep_pickup_datetime|tpep_dropoff_datetime|passenger_count|trip_distance|RatecodeID|store_and_fwd_flag|PULocationID|DOLocationID|payment_type|fare_amount|extra|mta_tax|tip_amount|tolls_amount|improvement_surcharge|total_amount|\n",
      "+--------+--------------------+---------------------+---------------+-------------+----------+------------------+------------+------------+------------+-----------+-----+-------+----------+------------+---------------------+------------+\n",
      "|       2|07/27/2017 06:38:...| 07/27/2017 06:49:...|              1|         1.56|         1|                 N|         170|          79|           1|        9.0|  1.0|    0.5|      2.16|         0.0|                  0.3|       12.96|\n",
      "|       2|07/27/2017 06:51:...| 07/27/2017 07:00:...|              1|         0.77|         1|                 N|          79|         144|           1|        7.5|  1.0|    0.5|      1.86|         0.0|                  0.3|       11.16|\n",
      "|       1|07/27/2017 06:02:...| 07/27/2017 06:18:...|              1|          1.2|         1|                 N|          90|         170|           1|       11.0|  1.0|    0.5|       0.1|         0.0|                  0.3|        12.9|\n",
      "|       1|07/27/2017 06:19:...| 07/27/2017 06:32:...|              1|          1.9|         1|                 N|         170|          68|           1|       10.0|  1.0|    0.5|       0.1|         0.0|                  0.3|        11.9|\n",
      "|       1|07/27/2017 06:42:...| 07/27/2017 06:58:...|              1|          1.5|         1|                 N|         234|          68|           1|       11.0|  1.0|    0.5|       2.0|         0.0|                  0.3|        14.8|\n",
      "|       2|07/27/2017 06:49:...| 07/27/2017 07:17:...|              5|         2.86|         1|                 N|         114|         229|           1|       17.5|  1.0|    0.5|      3.86|         0.0|                  0.3|       23.16|\n",
      "|       2|07/27/2017 06:00:...| 07/27/2017 06:11:...|              5|         1.71|         1|                 N|         162|         236|           1|        9.5|  1.0|    0.5|      2.26|         0.0|                  0.3|       13.56|\n",
      "|       2|07/27/2017 06:14:...| 07/27/2017 06:24:...|              5|         1.76|         1|                 N|         263|         229|           1|        8.5|  1.0|    0.5|      2.58|         0.0|                  0.3|       12.88|\n",
      "|       2|07/27/2017 06:31:...| 07/27/2017 06:40:...|              5|         1.77|         1|                 N|         229|         236|           2|        8.0|  1.0|    0.5|       0.0|         0.0|                  0.3|         9.8|\n",
      "|       1|07/27/2017 06:04:...| 07/27/2017 06:20:...|              1|          2.0|         1|                 N|         263|         239|           2|       11.5|  1.0|    0.5|       0.0|         0.0|                  0.3|        13.3|\n",
      "|       1|07/27/2017 06:23:...| 07/27/2017 06:28:...|              2|          0.4|         1|                 N|         239|         143|           1|        5.0|  1.0|    0.5|      1.35|         0.0|                  0.3|        8.15|\n",
      "|       1|07/27/2017 06:33:...| 07/27/2017 07:05:...|              2|          6.1|         1|                 N|         238|         234|           1|       23.0|  1.0|    0.5|       6.2|         0.0|                  0.3|        31.0|\n",
      "|       1|07/27/2017 06:42:...| 07/27/2017 06:46:...|              2|          0.4|         1|                 N|         211|         114|           1|        4.5|  1.0|    0.5|       1.0|         0.0|                  0.3|         7.3|\n",
      "|       2|07/27/2017 06:05:...| 07/27/2017 06:14:...|              5|         2.42|         1|                 N|         237|          24|           1|       10.0|  1.0|    0.5|       2.0|         0.0|                  0.3|        13.8|\n",
      "|       2|07/27/2017 06:20:...| 07/27/2017 06:34:...|              5|         2.11|         1|                 N|         238|         230|           1|       11.0|  1.0|    0.5|       2.0|         0.0|                  0.3|        14.8|\n",
      "|       2|07/27/2017 06:37:...| 07/27/2017 07:12:...|              5|         2.69|         1|                 N|         161|         113|           1|       18.0|  1.0|    0.5|      3.96|         0.0|                  0.3|       23.76|\n",
      "|       2|07/27/2017 06:09:...| 07/27/2017 06:23:...|              1|         1.93|         1|                 N|         236|         239|           1|       10.5|  1.0|    0.5|       1.0|         0.0|                  0.3|        13.3|\n",
      "|       2|07/27/2017 06:25:...| 07/27/2017 06:28:...|              1|         0.51|         1|                 N|         239|         238|           1|        4.0|  1.0|    0.5|      1.16|         0.0|                  0.3|        6.96|\n",
      "|       2|07/27/2017 06:38:...| 07/27/2017 06:43:...|              1|         0.91|         1|                 N|         238|          43|           1|        5.5|  1.0|    0.5|      1.46|         0.0|                  0.3|        8.76|\n",
      "|       2|07/27/2017 06:49:...| 07/27/2017 06:53:...|              1|         0.89|         1|                 N|         236|         263|           1|        5.0|  1.0|    0.5|      1.36|         0.0|                  0.3|        8.16|\n",
      "+--------+--------------------+---------------------+---------------+-------------+----------+------------------+------------+------------+------------+-----------+-----+-------+----------+------------+---------------------+------------+\n",
      "only showing top 20 rows\n",
      "\n"
     ]
    }
   ],
   "source": [
    "raw_data.show()"
   ]
  },
  {
   "cell_type": "code",
   "execution_count": 7,
   "id": "9adcc17c",
   "metadata": {},
   "outputs": [
    {
     "name": "stdout",
     "output_type": "stream",
     "text": [
      "root\n",
      " |-- VendorID: integer (nullable = true)\n",
      " |-- tpep_pickup_datetime: string (nullable = true)\n",
      " |-- tpep_dropoff_datetime: string (nullable = true)\n",
      " |-- passenger_count: integer (nullable = true)\n",
      " |-- trip_distance: double (nullable = true)\n",
      " |-- RatecodeID: integer (nullable = true)\n",
      " |-- store_and_fwd_flag: string (nullable = true)\n",
      " |-- PULocationID: integer (nullable = true)\n",
      " |-- DOLocationID: integer (nullable = true)\n",
      " |-- payment_type: integer (nullable = true)\n",
      " |-- fare_amount: double (nullable = true)\n",
      " |-- extra: double (nullable = true)\n",
      " |-- mta_tax: double (nullable = true)\n",
      " |-- tip_amount: double (nullable = true)\n",
      " |-- tolls_amount: double (nullable = true)\n",
      " |-- improvement_surcharge: double (nullable = true)\n",
      " |-- total_amount: double (nullable = true)\n",
      "\n"
     ]
    }
   ],
   "source": [
    "#checking the schema\n",
    "raw_data.printSchema()"
   ]
  },
  {
   "cell_type": "code",
   "execution_count": 8,
   "id": "ee15fbf5",
   "metadata": {},
   "outputs": [],
   "source": [
    "# Sample 5 million rows explicitly (optional)\n",
    "df_sample = raw_data.sample(withReplacement=False, fraction=0.001)"
   ]
  },
  {
   "cell_type": "code",
   "execution_count": 9,
   "id": "bf40b1c6",
   "metadata": {},
   "outputs": [
    {
     "name": "stdout",
     "output_type": "stream",
     "text": [
      "+--------+--------------------+---------------------+---------------+-------------+----------+------------------+------------+------------+------------+-----------+-----+-------+----------+------------+---------------------+------------+\n",
      "|VendorID|tpep_pickup_datetime|tpep_dropoff_datetime|passenger_count|trip_distance|RatecodeID|store_and_fwd_flag|PULocationID|DOLocationID|payment_type|fare_amount|extra|mta_tax|tip_amount|tolls_amount|improvement_surcharge|total_amount|\n",
      "+--------+--------------------+---------------------+---------------+-------------+----------+------------------+------------+------------+------------+-----------+-----+-------+----------+------------+---------------------+------------+\n",
      "|       2|07/27/2017 06:04:...| 07/27/2017 06:42:...|              1|         10.8|         1|                 N|         143|         138|           1|       36.0|  1.0|    0.5|       5.0|        5.76|                  0.3|       48.56|\n",
      "|       2|07/27/2017 06:30:...| 07/27/2017 06:52:...|              6|         6.53|         1|                 N|         231|         162|           1|       21.0|  1.0|    0.5|      3.42|         0.0|                  0.3|       26.22|\n",
      "|       2|07/27/2017 06:01:...| 07/27/2017 06:24:...|              1|         3.11|         1|                 N|         100|         238|           2|       16.0|  1.0|    0.5|       0.0|         0.0|                  0.3|        17.8|\n",
      "|       2|07/27/2017 06:31:...| 07/27/2017 06:43:...|              1|         0.71|         1|                 N|         233|         230|           1|        8.5|  1.0|    0.5|      2.06|         0.0|                  0.3|       12.36|\n",
      "|       2|07/27/2017 06:10:...| 07/27/2017 06:19:...|              1|         1.35|         1|                 N|         186|         249|           1|        7.5|  1.0|    0.5|      2.79|         0.0|                  0.3|       12.09|\n",
      "|       2|07/27/2017 06:17:...| 07/27/2017 06:34:...|              1|         1.37|         1|                 N|         246|         164|           1|       11.0|  1.0|    0.5|      2.56|         0.0|                  0.3|       15.36|\n",
      "|       2|07/27/2017 06:33:...| 07/27/2017 07:08:...|              1|         3.69|         1|                 N|         161|         231|           1|       21.5|  1.0|    0.5|      4.66|         0.0|                  0.3|       27.96|\n",
      "|       1|07/27/2017 06:39:...| 07/27/2017 06:50:...|              1|          1.2|         1|                 N|          79|         249|           1|        8.0|  1.0|    0.5|       2.0|         0.0|                  0.3|        11.8|\n",
      "|       1|07/27/2017 06:21:...| 07/27/2017 06:57:...|              1|         10.0|         1|                 N|         138|         237|           1|       33.0|  1.0|    0.5|       8.1|        5.76|                  0.3|       48.66|\n",
      "|       2|07/27/2017 06:36:...| 07/27/2017 06:48:...|              1|         1.35|         1|                 N|         107|         230|           1|        9.0|  1.0|    0.5|       2.7|         0.0|                  0.3|        13.5|\n",
      "|       2|07/27/2017 06:18:...| 07/27/2017 06:22:...|              3|         0.78|         1|                 N|         161|         237|           1|        5.0|  1.0|    0.5|      1.36|         0.0|                  0.3|        8.16|\n",
      "|       2|07/27/2017 06:40:...| 07/27/2017 06:48:...|              1|          0.8|         1|                 N|         170|         137|           1|        6.5|  1.0|    0.5|      0.83|         0.0|                  0.3|        9.13|\n",
      "|       1|07/27/2017 06:09:...| 07/27/2017 06:26:...|              1|          3.2|         1|                 N|         249|         256|           1|       14.5|  1.0|    0.5|       3.0|         0.0|                  0.3|        19.3|\n",
      "|       1|07/27/2017 06:16:...| 07/27/2017 06:44:...|              1|          4.4|         1|                 N|         236|          48|           2|       20.5|  1.0|    0.5|       0.0|         0.0|                  0.3|        22.3|\n",
      "|       2|07/27/2017 06:25:...| 07/27/2017 07:03:...|              1|         11.8|         1|                 N|         186|         138|           1|       36.5|  1.0|    0.5|     11.02|        5.76|                  0.3|       55.08|\n",
      "|       1|07/27/2017 07:54:...| 07/27/2017 08:11:...|              1|          2.0|         1|                 N|         161|         114|           1|       12.5|  1.0|    0.5|      10.0|         0.0|                  0.3|        24.3|\n",
      "|       1|07/27/2017 07:27:...| 07/27/2017 07:52:...|              1|          5.3|         1|                 N|         239|         114|           1|       21.0|  1.0|    0.5|      4.55|         0.0|                  0.3|       27.35|\n",
      "|       2|07/27/2017 07:08:...| 07/27/2017 07:25:...|              1|         1.24|         1|                 N|         237|         143|           2|       10.5|  1.0|    0.5|       0.0|         0.0|                  0.3|        12.3|\n",
      "|       2|07/27/2017 07:16:...| 07/27/2017 07:33:...|              1|         6.68|         1|                 N|         229|          13|           1|       21.5|  1.0|    0.5|      4.66|         0.0|                  0.3|       27.96|\n",
      "|       2|07/27/2017 07:01:...| 07/27/2017 07:19:...|              1|         1.92|         1|                 N|         162|         142|           2|       12.5|  1.0|    0.5|       0.0|         0.0|                  0.3|        14.3|\n",
      "+--------+--------------------+---------------------+---------------+-------------+----------+------------------+------------+------------+------------+-----------+-----+-------+----------+------------+---------------------+------------+\n",
      "only showing top 20 rows\n",
      "\n"
     ]
    }
   ],
   "source": [
    "df_sample.show()"
   ]
  },
  {
   "cell_type": "code",
   "execution_count": 10,
   "id": "664c7081",
   "metadata": {},
   "outputs": [
    {
     "data": {
      "text/plain": [
       "113118"
      ]
     },
     "execution_count": 10,
     "metadata": {},
     "output_type": "execute_result"
    }
   ],
   "source": [
    "df_sample.count()"
   ]
  },
  {
   "cell_type": "code",
   "execution_count": 11,
   "id": "855857f6",
   "metadata": {},
   "outputs": [],
   "source": [
    "#converting to pandas dataframe\n",
    "pandas_df = df_sample.toPandas()"
   ]
  },
  {
   "cell_type": "code",
   "execution_count": 12,
   "id": "4e6b2244",
   "metadata": {},
   "outputs": [
    {
     "data": {
      "text/html": [
       "<div>\n",
       "<style scoped>\n",
       "    .dataframe tbody tr th:only-of-type {\n",
       "        vertical-align: middle;\n",
       "    }\n",
       "\n",
       "    .dataframe tbody tr th {\n",
       "        vertical-align: top;\n",
       "    }\n",
       "\n",
       "    .dataframe thead th {\n",
       "        text-align: right;\n",
       "    }\n",
       "</style>\n",
       "<table border=\"1\" class=\"dataframe\">\n",
       "  <thead>\n",
       "    <tr style=\"text-align: right;\">\n",
       "      <th></th>\n",
       "      <th>VendorID</th>\n",
       "      <th>tpep_pickup_datetime</th>\n",
       "      <th>tpep_dropoff_datetime</th>\n",
       "      <th>passenger_count</th>\n",
       "      <th>trip_distance</th>\n",
       "      <th>RatecodeID</th>\n",
       "      <th>store_and_fwd_flag</th>\n",
       "      <th>PULocationID</th>\n",
       "      <th>DOLocationID</th>\n",
       "      <th>payment_type</th>\n",
       "      <th>fare_amount</th>\n",
       "      <th>extra</th>\n",
       "      <th>mta_tax</th>\n",
       "      <th>tip_amount</th>\n",
       "      <th>tolls_amount</th>\n",
       "      <th>improvement_surcharge</th>\n",
       "      <th>total_amount</th>\n",
       "    </tr>\n",
       "  </thead>\n",
       "  <tbody>\n",
       "    <tr>\n",
       "      <th>0</th>\n",
       "      <td>2</td>\n",
       "      <td>07/27/2017 06:04:13 PM</td>\n",
       "      <td>07/27/2017 06:42:53 PM</td>\n",
       "      <td>1</td>\n",
       "      <td>10.80</td>\n",
       "      <td>1</td>\n",
       "      <td>N</td>\n",
       "      <td>143</td>\n",
       "      <td>138</td>\n",
       "      <td>1</td>\n",
       "      <td>36.0</td>\n",
       "      <td>1.0</td>\n",
       "      <td>0.5</td>\n",
       "      <td>5.00</td>\n",
       "      <td>5.76</td>\n",
       "      <td>0.3</td>\n",
       "      <td>48.56</td>\n",
       "    </tr>\n",
       "    <tr>\n",
       "      <th>1</th>\n",
       "      <td>2</td>\n",
       "      <td>07/27/2017 06:30:35 PM</td>\n",
       "      <td>07/27/2017 06:52:03 PM</td>\n",
       "      <td>6</td>\n",
       "      <td>6.53</td>\n",
       "      <td>1</td>\n",
       "      <td>N</td>\n",
       "      <td>231</td>\n",
       "      <td>162</td>\n",
       "      <td>1</td>\n",
       "      <td>21.0</td>\n",
       "      <td>1.0</td>\n",
       "      <td>0.5</td>\n",
       "      <td>3.42</td>\n",
       "      <td>0.00</td>\n",
       "      <td>0.3</td>\n",
       "      <td>26.22</td>\n",
       "    </tr>\n",
       "    <tr>\n",
       "      <th>2</th>\n",
       "      <td>2</td>\n",
       "      <td>07/27/2017 06:01:39 PM</td>\n",
       "      <td>07/27/2017 06:24:32 PM</td>\n",
       "      <td>1</td>\n",
       "      <td>3.11</td>\n",
       "      <td>1</td>\n",
       "      <td>N</td>\n",
       "      <td>100</td>\n",
       "      <td>238</td>\n",
       "      <td>2</td>\n",
       "      <td>16.0</td>\n",
       "      <td>1.0</td>\n",
       "      <td>0.5</td>\n",
       "      <td>0.00</td>\n",
       "      <td>0.00</td>\n",
       "      <td>0.3</td>\n",
       "      <td>17.80</td>\n",
       "    </tr>\n",
       "    <tr>\n",
       "      <th>3</th>\n",
       "      <td>2</td>\n",
       "      <td>07/27/2017 06:31:48 PM</td>\n",
       "      <td>07/27/2017 06:43:38 PM</td>\n",
       "      <td>1</td>\n",
       "      <td>0.71</td>\n",
       "      <td>1</td>\n",
       "      <td>N</td>\n",
       "      <td>233</td>\n",
       "      <td>230</td>\n",
       "      <td>1</td>\n",
       "      <td>8.5</td>\n",
       "      <td>1.0</td>\n",
       "      <td>0.5</td>\n",
       "      <td>2.06</td>\n",
       "      <td>0.00</td>\n",
       "      <td>0.3</td>\n",
       "      <td>12.36</td>\n",
       "    </tr>\n",
       "    <tr>\n",
       "      <th>4</th>\n",
       "      <td>2</td>\n",
       "      <td>07/27/2017 06:10:56 PM</td>\n",
       "      <td>07/27/2017 06:19:01 PM</td>\n",
       "      <td>1</td>\n",
       "      <td>1.35</td>\n",
       "      <td>1</td>\n",
       "      <td>N</td>\n",
       "      <td>186</td>\n",
       "      <td>249</td>\n",
       "      <td>1</td>\n",
       "      <td>7.5</td>\n",
       "      <td>1.0</td>\n",
       "      <td>0.5</td>\n",
       "      <td>2.79</td>\n",
       "      <td>0.00</td>\n",
       "      <td>0.3</td>\n",
       "      <td>12.09</td>\n",
       "    </tr>\n",
       "  </tbody>\n",
       "</table>\n",
       "</div>"
      ],
      "text/plain": [
       "   VendorID    tpep_pickup_datetime   tpep_dropoff_datetime  passenger_count  \\\n",
       "0         2  07/27/2017 06:04:13 PM  07/27/2017 06:42:53 PM                1   \n",
       "1         2  07/27/2017 06:30:35 PM  07/27/2017 06:52:03 PM                6   \n",
       "2         2  07/27/2017 06:01:39 PM  07/27/2017 06:24:32 PM                1   \n",
       "3         2  07/27/2017 06:31:48 PM  07/27/2017 06:43:38 PM                1   \n",
       "4         2  07/27/2017 06:10:56 PM  07/27/2017 06:19:01 PM                1   \n",
       "\n",
       "   trip_distance  RatecodeID store_and_fwd_flag  PULocationID  DOLocationID  \\\n",
       "0          10.80           1                  N           143           138   \n",
       "1           6.53           1                  N           231           162   \n",
       "2           3.11           1                  N           100           238   \n",
       "3           0.71           1                  N           233           230   \n",
       "4           1.35           1                  N           186           249   \n",
       "\n",
       "   payment_type  fare_amount  extra  mta_tax  tip_amount  tolls_amount  \\\n",
       "0             1         36.0    1.0      0.5        5.00          5.76   \n",
       "1             1         21.0    1.0      0.5        3.42          0.00   \n",
       "2             2         16.0    1.0      0.5        0.00          0.00   \n",
       "3             1          8.5    1.0      0.5        2.06          0.00   \n",
       "4             1          7.5    1.0      0.5        2.79          0.00   \n",
       "\n",
       "   improvement_surcharge  total_amount  \n",
       "0                    0.3         48.56  \n",
       "1                    0.3         26.22  \n",
       "2                    0.3         17.80  \n",
       "3                    0.3         12.36  \n",
       "4                    0.3         12.09  "
      ]
     },
     "execution_count": 12,
     "metadata": {},
     "output_type": "execute_result"
    }
   ],
   "source": [
    "pandas_df.head()"
   ]
  },
  {
   "cell_type": "code",
   "execution_count": 13,
   "id": "65ab21d3",
   "metadata": {},
   "outputs": [
    {
     "name": "stdout",
     "output_type": "stream",
     "text": [
      "<class 'pandas.core.frame.DataFrame'>\n",
      "RangeIndex: 113118 entries, 0 to 113117\n",
      "Data columns (total 17 columns):\n",
      " #   Column                 Non-Null Count   Dtype  \n",
      "---  ------                 --------------   -----  \n",
      " 0   VendorID               113118 non-null  int32  \n",
      " 1   tpep_pickup_datetime   113118 non-null  object \n",
      " 2   tpep_dropoff_datetime  113118 non-null  object \n",
      " 3   passenger_count        113118 non-null  int32  \n",
      " 4   trip_distance          113118 non-null  float64\n",
      " 5   RatecodeID             113118 non-null  int32  \n",
      " 6   store_and_fwd_flag     113118 non-null  object \n",
      " 7   PULocationID           113118 non-null  int32  \n",
      " 8   DOLocationID           113118 non-null  int32  \n",
      " 9   payment_type           113118 non-null  int32  \n",
      " 10  fare_amount            113118 non-null  float64\n",
      " 11  extra                  113118 non-null  float64\n",
      " 12  mta_tax                113118 non-null  float64\n",
      " 13  tip_amount             113118 non-null  float64\n",
      " 14  tolls_amount           113118 non-null  float64\n",
      " 15  improvement_surcharge  113118 non-null  float64\n",
      " 16  total_amount           113118 non-null  float64\n",
      "dtypes: float64(8), int32(6), object(3)\n",
      "memory usage: 12.1+ MB\n"
     ]
    }
   ],
   "source": [
    "pandas_df.info()"
   ]
  },
  {
   "cell_type": "code",
   "execution_count": 14,
   "id": "1a185fe4",
   "metadata": {},
   "outputs": [],
   "source": [
    "#saving the dataframe to a csv file\n",
    "pandas_df.to_csv(\"..\\..\\data\\Yellow_Taxi_Trip_Sample.csv\",index=False)"
   ]
  }
 ],
 "metadata": {
  "kernelspec": {
   "display_name": "Python 3 (ipykernel)",
   "language": "python",
   "name": "python3"
  },
  "language_info": {
   "codemirror_mode": {
    "name": "ipython",
    "version": 3
   },
   "file_extension": ".py",
   "mimetype": "text/x-python",
   "name": "python",
   "nbconvert_exporter": "python",
   "pygments_lexer": "ipython3",
   "version": "3.11.0"
  }
 },
 "nbformat": 4,
 "nbformat_minor": 5
}
